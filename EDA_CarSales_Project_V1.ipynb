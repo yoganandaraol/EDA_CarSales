{
 "cells": [
  {
   "cell_type": "code",
   "execution_count": 1,
   "metadata": {},
   "outputs": [],
   "source": [
    "# Import all the needful packages-----------------------\n",
    "import numpy as np\n",
    "import pandas as pd\n",
    "import pandas_profiling\n",
    "# ------------------------------------------------------"
   ]
  },
  {
   "cell_type": "code",
   "execution_count": 2,
   "metadata": {},
   "outputs": [],
   "source": [
    "# Read the CSV file using \n",
    "carsales_df = pd.read_csv(\"https://raw.githubusercontent.com/insaid2018/Term-1/master/Data/Projects/car_sales.csv\", encoding='cp1252')"
   ]
  },
  {
   "cell_type": "code",
   "execution_count": 3,
   "metadata": {},
   "outputs": [
    {
     "data": {
      "text/plain": [
       "(9576, 10)"
      ]
     },
     "execution_count": 3,
     "metadata": {},
     "output_type": "execute_result"
    }
   ],
   "source": [
    "carsales_df.shape"
   ]
  },
  {
   "cell_type": "code",
   "execution_count": 4,
   "metadata": {},
   "outputs": [
    {
     "name": "stdout",
     "output_type": "stream",
     "text": [
      "<class 'pandas.core.frame.DataFrame'>\n",
      "RangeIndex: 9576 entries, 0 to 9575\n",
      "Data columns (total 10 columns):\n",
      " #   Column        Non-Null Count  Dtype  \n",
      "---  ------        --------------  -----  \n",
      " 0   car           9576 non-null   object \n",
      " 1   price         9576 non-null   float64\n",
      " 2   body          9576 non-null   object \n",
      " 3   mileage       9576 non-null   int64  \n",
      " 4   engV          9142 non-null   float64\n",
      " 5   engType       9576 non-null   object \n",
      " 6   registration  9576 non-null   object \n",
      " 7   year          9576 non-null   int64  \n",
      " 8   model         9576 non-null   object \n",
      " 9   drive         9065 non-null   object \n",
      "dtypes: float64(2), int64(2), object(6)\n",
      "memory usage: 748.2+ KB\n"
     ]
    }
   ],
   "source": [
    "carsales_df.info() # Details about Dataframe index, Column Name, Non-null Count, and Datatype of the column"
   ]
  },
  {
   "cell_type": "code",
   "execution_count": 5,
   "metadata": {},
   "outputs": [
    {
     "data": {
      "text/html": [
       "<div>\n",
       "<style scoped>\n",
       "    .dataframe tbody tr th:only-of-type {\n",
       "        vertical-align: middle;\n",
       "    }\n",
       "\n",
       "    .dataframe tbody tr th {\n",
       "        vertical-align: top;\n",
       "    }\n",
       "\n",
       "    .dataframe thead th {\n",
       "        text-align: right;\n",
       "    }\n",
       "</style>\n",
       "<table border=\"1\" class=\"dataframe\">\n",
       "  <thead>\n",
       "    <tr style=\"text-align: right;\">\n",
       "      <th></th>\n",
       "      <th>price</th>\n",
       "      <th>mileage</th>\n",
       "      <th>engV</th>\n",
       "      <th>year</th>\n",
       "    </tr>\n",
       "  </thead>\n",
       "  <tbody>\n",
       "    <tr>\n",
       "      <th>count</th>\n",
       "      <td>9576.000000</td>\n",
       "      <td>9576.000000</td>\n",
       "      <td>9142.000000</td>\n",
       "      <td>9576.000000</td>\n",
       "    </tr>\n",
       "    <tr>\n",
       "      <th>mean</th>\n",
       "      <td>15633.317316</td>\n",
       "      <td>138.862364</td>\n",
       "      <td>2.646344</td>\n",
       "      <td>2006.605994</td>\n",
       "    </tr>\n",
       "    <tr>\n",
       "      <th>std</th>\n",
       "      <td>24106.523436</td>\n",
       "      <td>98.629754</td>\n",
       "      <td>5.927699</td>\n",
       "      <td>7.067924</td>\n",
       "    </tr>\n",
       "    <tr>\n",
       "      <th>min</th>\n",
       "      <td>0.000000</td>\n",
       "      <td>0.000000</td>\n",
       "      <td>0.100000</td>\n",
       "      <td>1953.000000</td>\n",
       "    </tr>\n",
       "    <tr>\n",
       "      <th>25%</th>\n",
       "      <td>4999.000000</td>\n",
       "      <td>70.000000</td>\n",
       "      <td>1.600000</td>\n",
       "      <td>2004.000000</td>\n",
       "    </tr>\n",
       "    <tr>\n",
       "      <th>50%</th>\n",
       "      <td>9200.000000</td>\n",
       "      <td>128.000000</td>\n",
       "      <td>2.000000</td>\n",
       "      <td>2008.000000</td>\n",
       "    </tr>\n",
       "    <tr>\n",
       "      <th>75%</th>\n",
       "      <td>16700.000000</td>\n",
       "      <td>194.000000</td>\n",
       "      <td>2.500000</td>\n",
       "      <td>2012.000000</td>\n",
       "    </tr>\n",
       "    <tr>\n",
       "      <th>max</th>\n",
       "      <td>547800.000000</td>\n",
       "      <td>999.000000</td>\n",
       "      <td>99.990000</td>\n",
       "      <td>2016.000000</td>\n",
       "    </tr>\n",
       "  </tbody>\n",
       "</table>\n",
       "</div>"
      ],
      "text/plain": [
       "               price      mileage         engV         year\n",
       "count    9576.000000  9576.000000  9142.000000  9576.000000\n",
       "mean    15633.317316   138.862364     2.646344  2006.605994\n",
       "std     24106.523436    98.629754     5.927699     7.067924\n",
       "min         0.000000     0.000000     0.100000  1953.000000\n",
       "25%      4999.000000    70.000000     1.600000  2004.000000\n",
       "50%      9200.000000   128.000000     2.000000  2008.000000\n",
       "75%     16700.000000   194.000000     2.500000  2012.000000\n",
       "max    547800.000000   999.000000    99.990000  2016.000000"
      ]
     },
     "execution_count": 5,
     "metadata": {},
     "output_type": "execute_result"
    }
   ],
   "source": [
    "carsales_df.describe() # Describes the Data of the DataSet. Statistics of DatSet, Min, Max, Inter Quartile Ranges for all quantitative variables"
   ]
  },
  {
   "cell_type": "markdown",
   "metadata": {},
   "source": [
    "From this Describe function gives us basic statistics computed on the dataset\n",
    "* Among the 4 numerical columns, engine has less values in count (all are 9756 except engV). There could be some missing data which should be cleansed.\n",
    "* *Price* & *Mileage* is having min value as '0', which looks incorrect or outlier. Could be potential candidate for correction/discard the data"
   ]
  },
  {
   "cell_type": "code",
   "execution_count": 6,
   "metadata": {},
   "outputs": [
    {
     "data": {
      "text/plain": [
       "car               0\n",
       "price             0\n",
       "body              0\n",
       "mileage           0\n",
       "engV            434\n",
       "engType           0\n",
       "registration      0\n",
       "year              0\n",
       "model             0\n",
       "drive           511\n",
       "dtype: int64"
      ]
     },
     "execution_count": 6,
     "metadata": {},
     "output_type": "execute_result"
    }
   ],
   "source": [
    "carsales_df.isnull().sum()"
   ]
  },
  {
   "cell_type": "markdown",
   "metadata": {},
   "source": [
    "* We can observe engV and drive is missing/null values. \n",
    "* These missing or null values we cant replace with any default value"
   ]
  },
  {
   "cell_type": "code",
   "execution_count": 7,
   "metadata": {},
   "outputs": [
    {
     "data": {
      "application/vnd.jupyter.widget-view+json": {
       "model_id": "5611daeb1a674cb8902c6423783e4eab",
       "version_major": 2,
       "version_minor": 0
      },
      "text/plain": [
       "HBox(children=(HTML(value='Summarize dataset'), FloatProgress(value=0.0, max=24.0), HTML(value='')))"
      ]
     },
     "metadata": {},
     "output_type": "display_data"
    },
    {
     "name": "stdout",
     "output_type": "stream",
     "text": [
      "\n"
     ]
    },
    {
     "data": {
      "application/vnd.jupyter.widget-view+json": {
       "model_id": "3441c18b848940048714a820d9a9996b",
       "version_major": 2,
       "version_minor": 0
      },
      "text/plain": [
       "HBox(children=(HTML(value='Generate report structure'), FloatProgress(value=0.0, max=1.0), HTML(value='')))"
      ]
     },
     "metadata": {},
     "output_type": "display_data"
    },
    {
     "name": "stdout",
     "output_type": "stream",
     "text": [
      "\n"
     ]
    },
    {
     "data": {
      "application/vnd.jupyter.widget-view+json": {
       "model_id": "b2154fd383904f38a5bc59e0145dfa31",
       "version_major": 2,
       "version_minor": 0
      },
      "text/plain": [
       "HBox(children=(HTML(value='Render HTML'), FloatProgress(value=0.0, max=1.0), HTML(value='')))"
      ]
     },
     "metadata": {},
     "output_type": "display_data"
    },
    {
     "name": "stdout",
     "output_type": "stream",
     "text": [
      "\n"
     ]
    },
    {
     "data": {
      "application/vnd.jupyter.widget-view+json": {
       "model_id": "28d82294373448a8a9a18ab0c9f76bcc",
       "version_major": 2,
       "version_minor": 0
      },
      "text/plain": [
       "HBox(children=(HTML(value='Export report to file'), FloatProgress(value=0.0, max=1.0), HTML(value='')))"
      ]
     },
     "metadata": {},
     "output_type": "display_data"
    },
    {
     "name": "stdout",
     "output_type": "stream",
     "text": [
      "\n"
     ]
    }
   ],
   "source": [
    "carsales_Profile = pandas_profiling.ProfileReport(carsales_df)\n",
    "carsales_Profile.to_file(\"CarSales_Before_Processing.html\")"
   ]
  },
  {
   "attachments": {
    "image.png": {
     "image/png": "[encoded data removed]"
    }
   },
   "cell_type": "markdown",
   "metadata": {},
   "source": [
    "## The profiing report describes\n",
    "* There are 113 duplicated rows (Action - Remove the duplcates)\n",
    "* 1% of missing cells are in the dataset (Action - Replace with default/mean value or discard the record)\n",
    "* 5 Categorical variables, 4 numeric variables and 1 boolean value\n",
    "\n",
    "![image.png](attachment:image.png)\n"
   ]
  },
  {
   "cell_type": "markdown",
   "metadata": {},
   "source": [
    "# <div style=\"text-align:center;background: -webkit-linear-gradient(#fff, #888);-webkit-background-clip: text;-webkit-text-fill-color: transparent;\"> Data Processing </div>\n",
    "\n",
    "\n",
    "* Removing the duplicates (113 records identified)\n",
    "* Numerical Values to be fixed.\n",
    "    * engV - after removing duplicates there are **434** entries has '0' price value which seems like incorrect\n",
    "        * Queries\n",
    "            * carsales_df.engV.describe()\n",
    "            * carsales_df[carsales_df.engV == 0].car.count()\n",
    "            \n",
    "    * price - after removing duplicates there are **240** entries has '0' price value which seems like incorrect\n",
    "        * Queries\n",
    "            * carsales_df.price.describe()\n",
    "            * carsales_df[carsales_df.price == 0].car.count()\n",
    "            \n",
    "    * mileage - - after removing duplicates there are **310** entries has '0' mileage value which seems like incorrect\n",
    "        * Queries\n",
    "            * carsales_df.mileage.describe()\n",
    "            * carsales_df[carsales_df.mileage == 0].car.count()\n",
    "            \n",
    "* Categorical Values to be fixed\n",
    "    * Drive\n",
    "    * engType"
   ]
  },
  {
   "cell_type": "code",
   "execution_count": 8,
   "metadata": {},
   "outputs": [
    {
     "data": {
      "text/plain": [
       "(9463, 10)"
      ]
     },
     "execution_count": 8,
     "metadata": {},
     "output_type": "execute_result"
    }
   ],
   "source": [
    "# lets Drop the duplicate Value\n",
    "\n",
    "carsales_df.drop_duplicates(inplace=True)\n",
    "carsales_df.shape"
   ]
  },
  {
   "cell_type": "code",
   "execution_count": 9,
   "metadata": {},
   "outputs": [
    {
     "data": {
      "text/plain": [
       "<AxesSubplot:ylabel='Frequency'>"
      ]
     },
     "execution_count": 9,
     "metadata": {},
     "output_type": "execute_result"
    },
    {
     "data": {
      "image/png": "[encoded data removed]",
      "text/plain": [
       "<Figure size 432x288 with 1 Axes>"
      ]
     },
     "metadata": {
      "needs_background": "light"
     },
     "output_type": "display_data"
    }
   ],
   "source": [
    "pd.DataFrame(carsales_df['engV']).plot.hist()"
   ]
  },
  {
   "cell_type": "markdown",
   "metadata": {},
   "source": [
    "# Fixing *engV* missing / erroneous values"
   ]
  },
  {
   "cell_type": "code",
   "execution_count": 10,
   "metadata": {},
   "outputs": [
    {
     "data": {
      "text/html": [
       "<div>\n",
       "<style scoped>\n",
       "    .dataframe tbody tr th:only-of-type {\n",
       "        vertical-align: middle;\n",
       "    }\n",
       "\n",
       "    .dataframe tbody tr th {\n",
       "        vertical-align: top;\n",
       "    }\n",
       "\n",
       "    .dataframe thead th {\n",
       "        text-align: right;\n",
       "    }\n",
       "</style>\n",
       "<table border=\"1\" class=\"dataframe\">\n",
       "  <thead>\n",
       "    <tr style=\"text-align: right;\">\n",
       "      <th></th>\n",
       "      <th>car</th>\n",
       "      <th>model</th>\n",
       "      <th>engV_avg</th>\n",
       "    </tr>\n",
       "  </thead>\n",
       "  <tbody>\n",
       "    <tr>\n",
       "      <th>0</th>\n",
       "      <td>Acura</td>\n",
       "      <td>MDX</td>\n",
       "      <td>3.62</td>\n",
       "    </tr>\n",
       "    <tr>\n",
       "      <th>1</th>\n",
       "      <td>Acura</td>\n",
       "      <td>RL</td>\n",
       "      <td>3.50</td>\n",
       "    </tr>\n",
       "    <tr>\n",
       "      <th>2</th>\n",
       "      <td>Acura</td>\n",
       "      <td>TL</td>\n",
       "      <td>3.20</td>\n",
       "    </tr>\n",
       "    <tr>\n",
       "      <th>3</th>\n",
       "      <td>Acura</td>\n",
       "      <td>TLX</td>\n",
       "      <td>2.40</td>\n",
       "    </tr>\n",
       "    <tr>\n",
       "      <th>4</th>\n",
       "      <td>Acura</td>\n",
       "      <td>ZDX</td>\n",
       "      <td>3.70</td>\n",
       "    </tr>\n",
       "    <tr>\n",
       "      <th>5</th>\n",
       "      <td>Alfa Romeo</td>\n",
       "      <td>147</td>\n",
       "      <td>1.60</td>\n",
       "    </tr>\n",
       "    <tr>\n",
       "      <th>6</th>\n",
       "      <td>Alfa Romeo</td>\n",
       "      <td>156</td>\n",
       "      <td>1.85</td>\n",
       "    </tr>\n",
       "    <tr>\n",
       "      <th>7</th>\n",
       "      <td>Alfa Romeo</td>\n",
       "      <td>159</td>\n",
       "      <td>2.20</td>\n",
       "    </tr>\n",
       "    <tr>\n",
       "      <th>8</th>\n",
       "      <td>Alfa Romeo</td>\n",
       "      <td>33</td>\n",
       "      <td>1.70</td>\n",
       "    </tr>\n",
       "    <tr>\n",
       "      <th>9</th>\n",
       "      <td>Alfa Romeo</td>\n",
       "      <td>75</td>\n",
       "      <td>1.60</td>\n",
       "    </tr>\n",
       "  </tbody>\n",
       "</table>\n",
       "</div>"
      ],
      "text/plain": [
       "          car model  engV_avg\n",
       "0       Acura   MDX      3.62\n",
       "1       Acura    RL      3.50\n",
       "2       Acura    TL      3.20\n",
       "3       Acura   TLX      2.40\n",
       "4       Acura   ZDX      3.70\n",
       "5  Alfa Romeo   147      1.60\n",
       "6  Alfa Romeo   156      1.85\n",
       "7  Alfa Romeo   159      2.20\n",
       "8  Alfa Romeo    33      1.70\n",
       "9  Alfa Romeo    75      1.60"
      ]
     },
     "execution_count": 10,
     "metadata": {},
     "output_type": "execute_result"
    }
   ],
   "source": [
    "'''\n",
    "Function that removes the ourlier entries of engV and returns dataframe\n",
    "'''\n",
    "def exclude_outliers_for_engV():\n",
    "    return pd.DataFrame(carsales_df[(carsales_df.engV > 0.5) & (carsales_df.engV < 25)])\n",
    "\n",
    "\n",
    "\n",
    "'''\n",
    "Function that computes the mean value of engV based on make and model \n",
    "'''\n",
    "def compute_engV_mean(r):\n",
    "    car_make = r.name[0]    \n",
    "    car_model = r.name[1]\n",
    "    if r.count() > 0:\n",
    "        return round(r.mean(),2)\n",
    "    else:\n",
    "        engV_df = exclude_outliers_for_engV()\n",
    "        engV_make = engV_df[engV_df.car == car_make].engV\n",
    "        if engV_make.count() > 0:\n",
    "            return round(engV_make.mean(),2)\n",
    "        else:\n",
    "            return round(engV_df.engV.mean(),2)\n",
    "        \n",
    "'''\n",
    "Create a staging \"engV mean\" dataframe for  all combinations of make and model\n",
    "'''\n",
    "engV_mean = carsales_df.groupby(['car','model']).engV.apply(compute_engV_mean).reset_index()\n",
    "engV_mean.rename(columns={'engV':'engV_avg'}, inplace=True)\n",
    "engV_mean.head(10)"
   ]
  },
  {
   "cell_type": "code",
   "execution_count": 11,
   "metadata": {},
   "outputs": [
    {
     "name": "stdout",
     "output_type": "stream",
     "text": [
      "--------------Before fix-----------------\n",
      "(434, 10)\n",
      "--------------After fix -----------------\n",
      "(0, 10)\n"
     ]
    }
   ],
   "source": [
    "'''\n",
    "Function that return engV value for missing records\n",
    "'''\n",
    "def get_missing_engV(r):\n",
    "    if pd.isnull(r.engV):\n",
    "        return engV_mean[(engV_mean.car == r.car) & (engV_mean.model == r.model)].engV_avg.values[0]\n",
    "    else:\n",
    "        return r.engV\n",
    "    \n",
    "\n",
    "'''\n",
    "Fix the missing engV values\n",
    "'''\n",
    "print('--------------Before fix-----------------')\n",
    "print(carsales_df[carsales_df.engV.isnull()].shape)\n",
    "\n",
    "carsales_df.engV = carsales_df.apply(get_missing_engV, axis=1)\n",
    "print('--------------After fix -----------------')\n",
    "print(carsales_df[carsales_df.engV.isnull()].shape)"
   ]
  },
  {
   "cell_type": "markdown",
   "metadata": {},
   "source": [
    "# Fixing *price* missing / erroneous values"
   ]
  },
  {
   "cell_type": "code",
   "execution_count": 12,
   "metadata": {},
   "outputs": [
    {
     "data": {
      "text/html": [
       "<div>\n",
       "<style scoped>\n",
       "    .dataframe tbody tr th:only-of-type {\n",
       "        vertical-align: middle;\n",
       "    }\n",
       "\n",
       "    .dataframe tbody tr th {\n",
       "        vertical-align: top;\n",
       "    }\n",
       "\n",
       "    .dataframe thead th {\n",
       "        text-align: right;\n",
       "    }\n",
       "</style>\n",
       "<table border=\"1\" class=\"dataframe\">\n",
       "  <thead>\n",
       "    <tr style=\"text-align: right;\">\n",
       "      <th></th>\n",
       "      <th>car</th>\n",
       "      <th>model</th>\n",
       "      <th>price_median</th>\n",
       "    </tr>\n",
       "  </thead>\n",
       "  <tbody>\n",
       "    <tr>\n",
       "      <th>0</th>\n",
       "      <td>Acura</td>\n",
       "      <td>MDX</td>\n",
       "      <td>17200.0</td>\n",
       "    </tr>\n",
       "    <tr>\n",
       "      <th>1</th>\n",
       "      <td>Acura</td>\n",
       "      <td>RL</td>\n",
       "      <td>13950.0</td>\n",
       "    </tr>\n",
       "    <tr>\n",
       "      <th>2</th>\n",
       "      <td>Acura</td>\n",
       "      <td>TL</td>\n",
       "      <td>8699.0</td>\n",
       "    </tr>\n",
       "    <tr>\n",
       "      <th>3</th>\n",
       "      <td>Acura</td>\n",
       "      <td>TLX</td>\n",
       "      <td>38200.0</td>\n",
       "    </tr>\n",
       "    <tr>\n",
       "      <th>4</th>\n",
       "      <td>Acura</td>\n",
       "      <td>ZDX</td>\n",
       "      <td>30999.0</td>\n",
       "    </tr>\n",
       "    <tr>\n",
       "      <th>5</th>\n",
       "      <td>Alfa Romeo</td>\n",
       "      <td>147</td>\n",
       "      <td>5900.0</td>\n",
       "    </tr>\n",
       "    <tr>\n",
       "      <th>6</th>\n",
       "      <td>Alfa Romeo</td>\n",
       "      <td>156</td>\n",
       "      <td>2325.0</td>\n",
       "    </tr>\n",
       "    <tr>\n",
       "      <th>7</th>\n",
       "      <td>Alfa Romeo</td>\n",
       "      <td>159</td>\n",
       "      <td>12050.0</td>\n",
       "    </tr>\n",
       "    <tr>\n",
       "      <th>8</th>\n",
       "      <td>Alfa Romeo</td>\n",
       "      <td>33</td>\n",
       "      <td>1800.0</td>\n",
       "    </tr>\n",
       "    <tr>\n",
       "      <th>9</th>\n",
       "      <td>Alfa Romeo</td>\n",
       "      <td>75</td>\n",
       "      <td>2300.0</td>\n",
       "    </tr>\n",
       "  </tbody>\n",
       "</table>\n",
       "</div>"
      ],
      "text/plain": [
       "          car model  price_median\n",
       "0       Acura   MDX       17200.0\n",
       "1       Acura    RL       13950.0\n",
       "2       Acura    TL        8699.0\n",
       "3       Acura   TLX       38200.0\n",
       "4       Acura   ZDX       30999.0\n",
       "5  Alfa Romeo   147        5900.0\n",
       "6  Alfa Romeo   156        2325.0\n",
       "7  Alfa Romeo   159       12050.0\n",
       "8  Alfa Romeo    33        1800.0\n",
       "9  Alfa Romeo    75        2300.0"
      ]
     },
     "execution_count": 12,
     "metadata": {},
     "output_type": "execute_result"
    }
   ],
   "source": [
    "'''\n",
    "Function that computes the median value of price based on make and model \n",
    "'''\n",
    "def compute_price_median(r):\n",
    "    car_make = r.name[0]    \n",
    "    car_model = r.name[1]\n",
    "    if (r.count() > 0) & (r.median() > 0):\n",
    "        return r.median()\n",
    "    else:\n",
    "        price_make = carsales_df[carsales_df.car == car_make].price\n",
    "        if price_make.median() > 0:\n",
    "            return price_make.median()\n",
    "        else:\n",
    "            return carsales_df.price.median()\n",
    "\n",
    "        \n",
    "'''\n",
    "Create a staging \"Price median\" dataframe for  all combinations of make and model\n",
    "'''\n",
    "price_median = carsales_df.groupby(['car','model']).price.apply(compute_price_median).reset_index()\n",
    "price_median.rename(columns={'price':'price_median'}, inplace=True)\n",
    "price_median.head(10)"
   ]
  },
  {
   "cell_type": "code",
   "execution_count": 13,
   "metadata": {},
   "outputs": [
    {
     "name": "stdout",
     "output_type": "stream",
     "text": [
      "--------------Before fix-----------------\n",
      "(240, 10)\n",
      "--------------After fix -----------------\n",
      "(0, 10)\n"
     ]
    }
   ],
   "source": [
    "'''\n",
    "Function that return price value for missing records\n",
    "'''\n",
    "def get_missing_price(r):\n",
    "    if r.price == 0:\n",
    "        return price_median[(price_median.car == r.car) & (price_median.model == r.model)].price_median.values[0]\n",
    "    else:\n",
    "        return r.price\n",
    "    \n",
    "\n",
    "'''\n",
    "Fix the missing price values\n",
    "'''\n",
    "print('--------------Before fix-----------------')\n",
    "print(carsales_df[carsales_df.price == 0].shape)\n",
    "\n",
    "carsales_df.price = carsales_df.apply(get_missing_price, axis=1)\n",
    "print('--------------After fix -----------------')\n",
    "print(carsales_df[carsales_df.price == 0].shape)"
   ]
  },
  {
   "cell_type": "markdown",
   "metadata": {},
   "source": [
    "# Fixing *mileage* missing / erroneous values"
   ]
  },
  {
   "cell_type": "code",
   "execution_count": 14,
   "metadata": {},
   "outputs": [
    {
     "data": {
      "text/html": [
       "<div>\n",
       "<style scoped>\n",
       "    .dataframe tbody tr th:only-of-type {\n",
       "        vertical-align: middle;\n",
       "    }\n",
       "\n",
       "    .dataframe tbody tr th {\n",
       "        vertical-align: top;\n",
       "    }\n",
       "\n",
       "    .dataframe thead th {\n",
       "        text-align: right;\n",
       "    }\n",
       "</style>\n",
       "<table border=\"1\" class=\"dataframe\">\n",
       "  <thead>\n",
       "    <tr style=\"text-align: right;\">\n",
       "      <th></th>\n",
       "      <th>car</th>\n",
       "      <th>model</th>\n",
       "      <th>mileage_median</th>\n",
       "    </tr>\n",
       "  </thead>\n",
       "  <tbody>\n",
       "    <tr>\n",
       "      <th>0</th>\n",
       "      <td>Acura</td>\n",
       "      <td>MDX</td>\n",
       "      <td>85.0</td>\n",
       "    </tr>\n",
       "    <tr>\n",
       "      <th>1</th>\n",
       "      <td>Acura</td>\n",
       "      <td>RL</td>\n",
       "      <td>138.0</td>\n",
       "    </tr>\n",
       "    <tr>\n",
       "      <th>2</th>\n",
       "      <td>Acura</td>\n",
       "      <td>TL</td>\n",
       "      <td>145.0</td>\n",
       "    </tr>\n",
       "    <tr>\n",
       "      <th>3</th>\n",
       "      <td>Acura</td>\n",
       "      <td>TLX</td>\n",
       "      <td>4.0</td>\n",
       "    </tr>\n",
       "    <tr>\n",
       "      <th>4</th>\n",
       "      <td>Acura</td>\n",
       "      <td>ZDX</td>\n",
       "      <td>32.0</td>\n",
       "    </tr>\n",
       "    <tr>\n",
       "      <th>5</th>\n",
       "      <td>Alfa Romeo</td>\n",
       "      <td>147</td>\n",
       "      <td>199.0</td>\n",
       "    </tr>\n",
       "    <tr>\n",
       "      <th>6</th>\n",
       "      <td>Alfa Romeo</td>\n",
       "      <td>156</td>\n",
       "      <td>162.0</td>\n",
       "    </tr>\n",
       "    <tr>\n",
       "      <th>7</th>\n",
       "      <td>Alfa Romeo</td>\n",
       "      <td>159</td>\n",
       "      <td>120.5</td>\n",
       "    </tr>\n",
       "    <tr>\n",
       "      <th>8</th>\n",
       "      <td>Alfa Romeo</td>\n",
       "      <td>33</td>\n",
       "      <td>185.0</td>\n",
       "    </tr>\n",
       "    <tr>\n",
       "      <th>9</th>\n",
       "      <td>Alfa Romeo</td>\n",
       "      <td>75</td>\n",
       "      <td>122.0</td>\n",
       "    </tr>\n",
       "  </tbody>\n",
       "</table>\n",
       "</div>"
      ],
      "text/plain": [
       "          car model  mileage_median\n",
       "0       Acura   MDX            85.0\n",
       "1       Acura    RL           138.0\n",
       "2       Acura    TL           145.0\n",
       "3       Acura   TLX             4.0\n",
       "4       Acura   ZDX            32.0\n",
       "5  Alfa Romeo   147           199.0\n",
       "6  Alfa Romeo   156           162.0\n",
       "7  Alfa Romeo   159           120.5\n",
       "8  Alfa Romeo    33           185.0\n",
       "9  Alfa Romeo    75           122.0"
      ]
     },
     "execution_count": 14,
     "metadata": {},
     "output_type": "execute_result"
    }
   ],
   "source": [
    "'''\n",
    "Function that computes the median value of mileage based on make and model \n",
    "'''\n",
    "def compute_mileage_median(r):\n",
    "    car_make = r.name[0]    \n",
    "    car_model = r.name[1]\n",
    "    if (r.count() > 0) & (r.median() > 0):\n",
    "        return r.median()\n",
    "    else:\n",
    "        mileage_make = carsales_df[carsales_df.car == car_make].mileage\n",
    "        if mileage_make.median() > 0:\n",
    "            return mileage_make.median()\n",
    "        else:\n",
    "            return carsales_df.mileage.median()\n",
    "        \n",
    "\n",
    "        '''\n",
    "Create a staging \"mileage median\" dataframe for  all combinations of make and model\n",
    "'''\n",
    "mileage_median = carsales_df.groupby(['car','model']).mileage.apply(compute_mileage_median).reset_index()\n",
    "mileage_median.rename(columns={'mileage':'mileage_median'}, inplace=True)\n",
    "mileage_median.head(10)"
   ]
  },
  {
   "cell_type": "code",
   "execution_count": 15,
   "metadata": {},
   "outputs": [
    {
     "name": "stdout",
     "output_type": "stream",
     "text": [
      "--------------Before fix-----------------\n",
      "(310, 10)\n",
      "--------------After fix -----------------\n",
      "(0, 10)\n"
     ]
    }
   ],
   "source": [
    "'''\n",
    "Function that return mileage value for missing records\n",
    "'''\n",
    "def get_missing_mileage(r):\n",
    "    if r.mileage == 0:\n",
    "        return mileage_median[(mileage_median.car == r.car) & (mileage_median.model == r.model)].mileage_median.values[0]\n",
    "    else:\n",
    "        return r.mileage\n",
    "    \n",
    "\n",
    "'''\n",
    "Fix the missing price values\n",
    "'''\n",
    "print('--------------Before fix-----------------')\n",
    "print(carsales_df[carsales_df.mileage == 0].shape)\n",
    "\n",
    "carsales_df.mileage = carsales_df.apply(get_missing_mileage, axis=1)\n",
    "print('--------------After fix -----------------')\n",
    "print(carsales_df[carsales_df.mileage == 0].shape)"
   ]
  },
  {
   "cell_type": "markdown",
   "metadata": {},
   "source": [
    "# Fixing *drive* missing / erroneous values"
   ]
  },
  {
   "cell_type": "code",
   "execution_count": 16,
   "metadata": {},
   "outputs": [
    {
     "data": {
      "text/html": [
       "<div>\n",
       "<style scoped>\n",
       "    .dataframe tbody tr th:only-of-type {\n",
       "        vertical-align: middle;\n",
       "    }\n",
       "\n",
       "    .dataframe tbody tr th {\n",
       "        vertical-align: top;\n",
       "    }\n",
       "\n",
       "    .dataframe thead th {\n",
       "        text-align: right;\n",
       "    }\n",
       "</style>\n",
       "<table border=\"1\" class=\"dataframe\">\n",
       "  <thead>\n",
       "    <tr style=\"text-align: right;\">\n",
       "      <th></th>\n",
       "      <th>car</th>\n",
       "      <th>model</th>\n",
       "      <th>drive_mode</th>\n",
       "    </tr>\n",
       "  </thead>\n",
       "  <tbody>\n",
       "    <tr>\n",
       "      <th>0</th>\n",
       "      <td>Acura</td>\n",
       "      <td>MDX</td>\n",
       "      <td>full</td>\n",
       "    </tr>\n",
       "    <tr>\n",
       "      <th>1</th>\n",
       "      <td>Acura</td>\n",
       "      <td>RL</td>\n",
       "      <td>full</td>\n",
       "    </tr>\n",
       "    <tr>\n",
       "      <th>2</th>\n",
       "      <td>Acura</td>\n",
       "      <td>TL</td>\n",
       "      <td>front</td>\n",
       "    </tr>\n",
       "    <tr>\n",
       "      <th>3</th>\n",
       "      <td>Acura</td>\n",
       "      <td>TLX</td>\n",
       "      <td>front</td>\n",
       "    </tr>\n",
       "    <tr>\n",
       "      <th>4</th>\n",
       "      <td>Acura</td>\n",
       "      <td>ZDX</td>\n",
       "      <td>full</td>\n",
       "    </tr>\n",
       "    <tr>\n",
       "      <th>...</th>\n",
       "      <td>...</td>\n",
       "      <td>...</td>\n",
       "      <td>...</td>\n",
       "    </tr>\n",
       "    <tr>\n",
       "      <th>914</th>\n",
       "      <td>ZX</td>\n",
       "      <td>LandMark</td>\n",
       "      <td>full</td>\n",
       "    </tr>\n",
       "    <tr>\n",
       "      <th>915</th>\n",
       "      <td>ËUAZ</td>\n",
       "      <td>1301</td>\n",
       "      <td>full</td>\n",
       "    </tr>\n",
       "    <tr>\n",
       "      <th>916</th>\n",
       "      <td>ËUAZ</td>\n",
       "      <td>1302</td>\n",
       "      <td>full</td>\n",
       "    </tr>\n",
       "    <tr>\n",
       "      <th>917</th>\n",
       "      <td>ËUAZ</td>\n",
       "      <td>969 Âîëûíü</td>\n",
       "      <td>full</td>\n",
       "    </tr>\n",
       "    <tr>\n",
       "      <th>918</th>\n",
       "      <td>ËUAZ</td>\n",
       "      <td>969Ì</td>\n",
       "      <td>full</td>\n",
       "    </tr>\n",
       "  </tbody>\n",
       "</table>\n",
       "<p>919 rows × 3 columns</p>\n",
       "</div>"
      ],
      "text/plain": [
       "       car       model drive_mode\n",
       "0    Acura         MDX       full\n",
       "1    Acura          RL       full\n",
       "2    Acura          TL      front\n",
       "3    Acura         TLX      front\n",
       "4    Acura         ZDX       full\n",
       "..     ...         ...        ...\n",
       "914     ZX    LandMark       full\n",
       "915   ËUAZ        1301       full\n",
       "916   ËUAZ        1302       full\n",
       "917   ËUAZ  969 Âîëûíü       full\n",
       "918   ËUAZ        969Ì       full\n",
       "\n",
       "[919 rows x 3 columns]"
      ]
     },
     "execution_count": 16,
     "metadata": {},
     "output_type": "execute_result"
    }
   ],
   "source": [
    "'''\n",
    "Function that removes the null entries of drive and returns dataframe\n",
    "'''\n",
    "def get_clensed_data_for_drive():\n",
    "    return pd.DataFrame(carsales_df[carsales_df.drive.isnull() == False])\n",
    "\n",
    "\n",
    "'''\n",
    "Function that computes the mode value of drive based on make and model \n",
    "'''\n",
    "def compute_drive(r):\n",
    "    car_make = r.name[0]    \n",
    "    car_model = r.name[1]\n",
    "    if r.count() > 0:\n",
    "        return r.mode()\n",
    "    else:\n",
    "        drive_df = get_clensed_data_for_drive()\n",
    "        drive_make = drive_df[drive_df.car == car_make].drive\n",
    "        if drive_make.count() > 0:\n",
    "            return drive_make.mode()\n",
    "        else:\n",
    "            return drive_df.drive.mode()\n",
    "        \n",
    "        \n",
    "'''\n",
    "Create a staging \"drive mode\" dataframe for  all combinations of make and model\n",
    "'''\n",
    "drive_mode = carsales_df.groupby(['car','model']).drive.apply(compute_drive).reset_index()\n",
    "drive_mode.rename(columns={'drive':'drive_mode'}, inplace=True)\n",
    "drive_mode.drop('level_2', axis=1)"
   ]
  },
  {
   "cell_type": "code",
   "execution_count": 17,
   "metadata": {},
   "outputs": [
    {
     "name": "stdout",
     "output_type": "stream",
     "text": [
      "--------------Before fix-----------------\n",
      "(510, 10)\n",
      "--------------After fix -----------------\n",
      "(0, 10)\n"
     ]
    }
   ],
   "source": [
    "'''\n",
    "Function that return drive value for missing records\n",
    "'''\n",
    "def get_missing_drive(r):\n",
    "    if pd.isnull(r.drive):\n",
    "        return drive_mode[(drive_mode.car == r.car) & (drive_mode.model == r.model)].drive_mode.values[0]\n",
    "    else:\n",
    "        return r.drive\n",
    "    \n",
    "'''\n",
    "Fix the missing drive values\n",
    "'''\n",
    "print('--------------Before fix-----------------')\n",
    "print(carsales_df[carsales_df.drive.isnull()].shape)\n",
    "\n",
    "carsales_df.drive = carsales_df.apply(get_missing_drive, axis=1)\n",
    "print('--------------After fix -----------------')\n",
    "print(carsales_df[carsales_df.drive.isnull()].shape)"
   ]
  },
  {
   "cell_type": "markdown",
   "metadata": {},
   "source": [
    "# Fixing *engType* missing / erroneous values"
   ]
  },
  {
   "cell_type": "code",
   "execution_count": 18,
   "metadata": {},
   "outputs": [
    {
     "data": {
      "text/html": [
       "<div>\n",
       "<style scoped>\n",
       "    .dataframe tbody tr th:only-of-type {\n",
       "        vertical-align: middle;\n",
       "    }\n",
       "\n",
       "    .dataframe tbody tr th {\n",
       "        vertical-align: top;\n",
       "    }\n",
       "\n",
       "    .dataframe thead th {\n",
       "        text-align: right;\n",
       "    }\n",
       "</style>\n",
       "<table border=\"1\" class=\"dataframe\">\n",
       "  <thead>\n",
       "    <tr style=\"text-align: right;\">\n",
       "      <th></th>\n",
       "      <th>car</th>\n",
       "      <th>model</th>\n",
       "      <th>engType_mode</th>\n",
       "    </tr>\n",
       "  </thead>\n",
       "  <tbody>\n",
       "    <tr>\n",
       "      <th>0</th>\n",
       "      <td>Acura</td>\n",
       "      <td>MDX</td>\n",
       "      <td>Petrol</td>\n",
       "    </tr>\n",
       "    <tr>\n",
       "      <th>1</th>\n",
       "      <td>Acura</td>\n",
       "      <td>RL</td>\n",
       "      <td>Gas</td>\n",
       "    </tr>\n",
       "    <tr>\n",
       "      <th>2</th>\n",
       "      <td>Acura</td>\n",
       "      <td>TL</td>\n",
       "      <td>Gas</td>\n",
       "    </tr>\n",
       "    <tr>\n",
       "      <th>3</th>\n",
       "      <td>Acura</td>\n",
       "      <td>TLX</td>\n",
       "      <td>Petrol</td>\n",
       "    </tr>\n",
       "    <tr>\n",
       "      <th>4</th>\n",
       "      <td>Acura</td>\n",
       "      <td>ZDX</td>\n",
       "      <td>Other</td>\n",
       "    </tr>\n",
       "    <tr>\n",
       "      <th>...</th>\n",
       "      <td>...</td>\n",
       "      <td>...</td>\n",
       "      <td>...</td>\n",
       "    </tr>\n",
       "    <tr>\n",
       "      <th>984</th>\n",
       "      <td>ZX</td>\n",
       "      <td>LandMark</td>\n",
       "      <td>Petrol</td>\n",
       "    </tr>\n",
       "    <tr>\n",
       "      <th>985</th>\n",
       "      <td>ËUAZ</td>\n",
       "      <td>1301</td>\n",
       "      <td>Petrol</td>\n",
       "    </tr>\n",
       "    <tr>\n",
       "      <th>986</th>\n",
       "      <td>ËUAZ</td>\n",
       "      <td>1302</td>\n",
       "      <td>Gas</td>\n",
       "    </tr>\n",
       "    <tr>\n",
       "      <th>987</th>\n",
       "      <td>ËUAZ</td>\n",
       "      <td>969 Âîëûíü</td>\n",
       "      <td>Petrol</td>\n",
       "    </tr>\n",
       "    <tr>\n",
       "      <th>988</th>\n",
       "      <td>ËUAZ</td>\n",
       "      <td>969Ì</td>\n",
       "      <td>Petrol</td>\n",
       "    </tr>\n",
       "  </tbody>\n",
       "</table>\n",
       "<p>989 rows × 3 columns</p>\n",
       "</div>"
      ],
      "text/plain": [
       "       car       model engType_mode\n",
       "0    Acura         MDX       Petrol\n",
       "1    Acura          RL          Gas\n",
       "2    Acura          TL          Gas\n",
       "3    Acura         TLX       Petrol\n",
       "4    Acura         ZDX        Other\n",
       "..     ...         ...          ...\n",
       "984     ZX    LandMark       Petrol\n",
       "985   ËUAZ        1301       Petrol\n",
       "986   ËUAZ        1302          Gas\n",
       "987   ËUAZ  969 Âîëûíü       Petrol\n",
       "988   ËUAZ        969Ì       Petrol\n",
       "\n",
       "[989 rows x 3 columns]"
      ]
     },
     "execution_count": 18,
     "metadata": {},
     "output_type": "execute_result"
    }
   ],
   "source": [
    "'''\n",
    "Function that removes the null entries of engType and returns dataframe\n",
    "'''\n",
    "def get_clensed_data_for_engType():\n",
    "    return pd.DataFrame(carsales_df[carsales_df.engType.isnull() == False])\n",
    "\n",
    "\n",
    "'''\n",
    "Function that computes the mode value of drive based on make and model \n",
    "'''\n",
    "def compute_engType(r):\n",
    "    car_make = r.name[0]    \n",
    "    car_model = r.name[1]\n",
    "    if r.count() > 0:\n",
    "        return r.mode()\n",
    "    else:\n",
    "        engType_df = get_clensed_data_for_engType()\n",
    "        engType_make = engType_df[engType_df.car == car_make].engType\n",
    "        if engType_make.count() > 0:\n",
    "            return engType_make.mode()\n",
    "        else:\n",
    "            return engType_df.engType.mode()\n",
    "        \n",
    "        \n",
    "'''\n",
    "Create a staging \"engType mode\" dataframe for  all combinations of make and model\n",
    "'''\n",
    "engType_mode = carsales_df.groupby(['car','model']).engType.apply(compute_engType).reset_index()\n",
    "engType_mode.rename(columns={'engType':'engType_mode'}, inplace=True)\n",
    "engType_mode.drop('level_2', axis=1)"
   ]
  },
  {
   "cell_type": "code",
   "execution_count": 19,
   "metadata": {},
   "outputs": [
    {
     "name": "stdout",
     "output_type": "stream",
     "text": [
      "--------------Before fix-----------------\n",
      "(0, 10)\n",
      "--------------After fix -----------------\n",
      "(0, 10)\n"
     ]
    }
   ],
   "source": [
    "'''\n",
    "Function that return drive value for missing records\n",
    "'''\n",
    "def get_missing_engType(r):\n",
    "    if pd.isnull(r.engType):\n",
    "        return engType_mode[(engType_mode.car == r.car) & (engType_mode.model == r.model)].engType_mode.values[0]\n",
    "    else:\n",
    "        return r.engType\n",
    "    \n",
    "'''\n",
    "Fix the missing engType values\n",
    "'''\n",
    "print('--------------Before fix-----------------')\n",
    "print(carsales_df[carsales_df.engType.isnull()].shape)\n",
    "\n",
    "carsales_df.engType = carsales_df.apply(get_missing_engType, axis=1)\n",
    "print('--------------After fix -----------------')\n",
    "print(carsales_df[carsales_df.engType.isnull()].shape)"
   ]
  },
  {
   "cell_type": "code",
   "execution_count": 20,
   "metadata": {},
   "outputs": [
    {
     "data": {
      "application/vnd.jupyter.widget-view+json": {
       "model_id": "ffe5d529ccff4cee97ce9f63f239adf6",
       "version_major": 2,
       "version_minor": 0
      },
      "text/plain": [
       "HBox(children=(HTML(value='Summarize dataset'), FloatProgress(value=0.0, max=25.0), HTML(value='')))"
      ]
     },
     "metadata": {},
     "output_type": "display_data"
    },
    {
     "name": "stdout",
     "output_type": "stream",
     "text": [
      "\n"
     ]
    },
    {
     "data": {
      "application/vnd.jupyter.widget-view+json": {
       "model_id": "50d93e87609345e2873f778214b8aa11",
       "version_major": 2,
       "version_minor": 0
      },
      "text/plain": [
       "HBox(children=(HTML(value='Generate report structure'), FloatProgress(value=0.0, max=1.0), HTML(value='')))"
      ]
     },
     "metadata": {},
     "output_type": "display_data"
    },
    {
     "name": "stdout",
     "output_type": "stream",
     "text": [
      "\n"
     ]
    },
    {
     "data": {
      "application/vnd.jupyter.widget-view+json": {
       "model_id": "62e01e588b164a839441572d7de2b1e1",
       "version_major": 2,
       "version_minor": 0
      },
      "text/plain": [
       "HBox(children=(HTML(value='Render HTML'), FloatProgress(value=0.0, max=1.0), HTML(value='')))"
      ]
     },
     "metadata": {},
     "output_type": "display_data"
    },
    {
     "name": "stdout",
     "output_type": "stream",
     "text": [
      "\n"
     ]
    },
    {
     "data": {
      "application/vnd.jupyter.widget-view+json": {
       "model_id": "85a9a000f944403286e593d63a027bf1",
       "version_major": 2,
       "version_minor": 0
      },
      "text/plain": [
       "HBox(children=(HTML(value='Export report to file'), FloatProgress(value=0.0, max=1.0), HTML(value='')))"
      ]
     },
     "metadata": {},
     "output_type": "display_data"
    },
    {
     "name": "stdout",
     "output_type": "stream",
     "text": [
      "\n"
     ]
    }
   ],
   "source": [
    "carsales_Profile = pandas_profiling.ProfileReport(carsales_df)\n",
    "carsales_Profile.to_file(\"CarSales_Post_Processing.html\")"
   ]
  },
  {
   "attachments": {
    "image.png": {
     "image/png": "[encoded data removed]"
    }
   },
   "cell_type": "markdown",
   "metadata": {},
   "source": [
    "### CarSales dataset stats  & warnings\n",
    "\n",
    "Stats:\n",
    "--------\n",
    "![image.png](attachment:image.png)\n"
   ]
  },
  {
   "attachments": {
    "image.png": {
     "image/png": "[encoded data removed]"
    }
   },
   "cell_type": "markdown",
   "metadata": {},
   "source": [
    "Warnings:\n",
    "--------------\n",
    "![image.png](attachment:image.png)\n",
    "\n",
    "From the above observations, it looks the Carsales dataset is cleansed/processed correctly. \n",
    "* no missing values\n",
    "* no duplicate records\n",
    "\n",
    "Lets start visualizing the data. "
   ]
  },
  {
   "cell_type": "markdown",
   "metadata": {},
   "source": [
    "# <div style=\"text-align:center;background: -webkit-linear-gradient(#fff, #888);-webkit-background-clip: text;-webkit-text-fill-color: transparent;\"> EDA </div>\n"
   ]
  }
 ],
 "metadata": {
  "kernelspec": {
   "display_name": "Python 3",
   "language": "python",
   "name": "python3"
  },
  "language_info": {
   "codemirror_mode": {
    "name": "ipython",
    "version": 3
   },
   "file_extension": ".py",
   "mimetype": "text/x-python",
   "name": "python",
   "nbconvert_exporter": "python",
   "pygments_lexer": "ipython3",
   "version": "3.7.6"
  }
 },
 "nbformat": 4,
 "nbformat_minor": 4
}
