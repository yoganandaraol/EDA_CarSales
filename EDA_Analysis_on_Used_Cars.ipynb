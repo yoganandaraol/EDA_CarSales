{
 "cells": [
  {
   "cell_type": "markdown",
   "metadata": {
    "colab_type": "text",
    "id": "9ku0h8OsoHJz"
   },
   "source": [
    "<p align=\"center\"><img src=\"https://github.com/insaid2018/Term-1/blob/master/Images/INSAID_Full%20Logo.png?raw=true\" width=\"260\" height=\"110\" /></p>"
   ]
  },
  {
   "cell_type": "markdown",
   "metadata": {
    "colab_type": "text",
    "id": "NWvRwRdGoK5Y"
   },
   "source": [
    "---\n",
    "# **Table of Contents**\n",
    "---\n",
    "\n",
    "1. [**Introduction**](#Section1)<br>\n",
    "2. [**Problem Statement**](#Section2)<br>\n",
    "3. [**Installing & Importing Libraries**](#Section3)<br>\n",
    "  3.1 [**Installing Libraries**](#Section31)<br>\n",
    "  3.2 [**Upgrading Libraries**](#Section32)<br>\n",
    "  3.3 [**Importing Libraries**](#Section33)<br>\n",
    "4. [**Data Acquisition & Description**](#Section4)<br>\n",
    "5. [**Data Pre-Profiling**](#Section5)<br>\n",
    "6. [**Data Pre-Processing**](#Section6)<br>\n",
    "  6.1 [**Installing Libraries**](#Section6_1)<br>\n",
    "  6.2 [**Upgrading Libraries**](#Section6_2)<br>\n",
    "  6.3 [**Importing Libraries**](#Section6_3)<br>\n",
    "  6.4 [**Installing Libraries**](#Section6_4)<br>\n",
    "  6.5 [**Upgrading Libraries**](#Section6_5)<br>\n",
    "7. [**Data Post-Profiling**](#Section7)<br>\n",
    "8. [**Exploratory Data Analysis**](#Section8)<br>\n",
    "9. [**Summarization**](#Section9)<br>\n",
    "  9.1 [**Conclusion**](#Section91)<br>\n",
    "  9.2 [**Actionable Insights**](#Section92)<br>\n",
    "\n",
    "---"
   ]
  },
  {
   "cell_type": "markdown",
   "metadata": {
    "colab_type": "text",
    "id": "iACv_4iIoaLi"
   },
   "source": [
    "---\n",
    "<a name = Section1></a>\n",
    "# **1. Introduction**\n",
    "---\n",
    "\n",
    "- Write down some interesting introduction related to the topic.\n",
    "\n",
    "- Surf out over the internet and do some research about what is happening in real life.\n",
    "\n",
    "- Try out and make some concrete points about your point of view."
   ]
  },
  {
   "cell_type": "markdown",
   "metadata": {
    "colab_type": "text",
    "id": "sOGJAM3AoePy"
   },
   "source": [
    "---\n",
    "<a name = Section2></a>\n",
    "# **2. Problem Statement**\n",
    "---\n",
    "\n",
    "- This section is emphasised on providing some generic introduction to the problem that most companies confronts.\n",
    "\n",
    "- **Example Problem Statement:**\n",
    "\n",
    "  - In the past few years, prices of new cars have skyrocketed, due to which most people are incapable of buying a new one.\n",
    "\n",
    "  - Customers buying a new car always looks for assurity of their money to be worthy.\n",
    "\n",
    "  - But due to the increased price of new cars, used car sales are on a global increase (Pal, Arora and Palakurthy, 2018).\n",
    "\n",
    "  - There is a need for a used car price prediction system to effectively determine the worthiness of the car using a variety of features.\n",
    "\n",
    "  - Even though there are websites that offers this service, their prediction method may not be the best.\n",
    "\n",
    "  - Besides, different models and systems may contribute on predicting power for a used car’s actual market value.\n",
    "\n",
    "  - It is important to know their actual market value while both buying and selling.\n",
    "  \n",
    "<p align=\"center\"><img src=\"https://s3-prod.autonews.com/s3fs-public/COPY01_311019947_AR_1_TKADJMIRSQBU.jpg\"></p>\n",
    "\n",
    "- Derive a scenario related to the problem statement and heads on to the journey of exploration.\n",
    "\n",
    "- **Example Scenario:**\n",
    "  - Cars Absolute, an American company buys and sells second hand cars.\n",
    "\n",
    "  - The company has earned its name because of sincerity in work and quality of services.\n",
    "\n",
    "  - But for past few months their sales is down for some reason and they are unable to figure it out.\n",
    "\n",
    "  - To tackle this problem they hired a genius team of data scientists. Consider you are one of them..."
   ]
  },
  {
   "cell_type": "markdown",
   "metadata": {
    "colab_type": "text",
    "id": "yzSAH3m9pLWi"
   },
   "source": [
    "---\n",
    "<a id = Section3></a>\n",
    "# **3. Installing & Importing Libraries**\n",
    "---\n",
    "\n",
    "- This section is emphasised on installing and importing the necessary libraries that will be required."
   ]
  },
  {
   "cell_type": "markdown",
   "metadata": {
    "colab_type": "text",
    "id": "M0y7joFPpOuQ"
   },
   "source": [
    "### **Installing Libraries**"
   ]
  },
  {
   "cell_type": "code",
   "execution_count": null,
   "metadata": {
    "colab": {},
    "colab_type": "code",
    "id": "S3pqantTnmxX"
   },
   "outputs": [],
   "source": [
    "!pip install -q datascience                                         # Package that is required by pandas profiling\n",
    "!pip install -q pandas-profiling                                    # Library to generate basic statistics about data\n",
    "# To install more libraries insert your code here.."
   ]
  },
  {
   "cell_type": "markdown",
   "metadata": {
    "colab_type": "text",
    "id": "pYQrkcl4pe8J"
   },
   "source": [
    "### **Upgrading Libraries**\n",
    "\n",
    "- **After upgrading** the libraries, you need to **restart the runtime** to make the libraries in sync.\n",
    "\n",
    "- Make sure not to execute the cell under Installing Libraries and Upgrading Libraries again after restarting the runtime."
   ]
  },
  {
   "cell_type": "code",
   "execution_count": null,
   "metadata": {
    "colab": {},
    "colab_type": "code",
    "id": "dmiiVvd-phhY"
   },
   "outputs": [],
   "source": [
    "!pip install -q --upgrade pandas-profiling                          # Upgrading pandas profiling to the latest version"
   ]
  },
  {
   "cell_type": "markdown",
   "metadata": {
    "colab_type": "text",
    "id": "PbyRyjDhpoJj"
   },
   "source": [
    "### **Importing Libraries**\n",
    "\n",
    "- You can headstart with the basic libraries as imported inside the cell below.\n",
    "\n",
    "- If you want to import some additional libraries, feel free to do so.\n"
   ]
  },
  {
   "cell_type": "code",
   "execution_count": 69,
   "metadata": {
    "colab": {},
    "colab_type": "code",
    "id": "5RapekFlpptb"
   },
   "outputs": [],
   "source": [
    "#-------------------------------------------------------------------------------------------------------------------------------\n",
    "import pandas as pd                                                 # Importing package pandas (For Panel Data Analysis)\n",
    "import pandas_profiling                                             # Import Pandas Profiling (To generate Univariate Analysis)\n",
    "#-------------------------------------------------------------------------------------------------------------------------------\n",
    "import numpy as np                                                  # Importing package numpys (For Numerical Python)\n",
    "#-------------------------------------------------------------------------------------------------------------------------------\n",
    "import matplotlib.pyplot as plt                                     # Importing pyplot interface to use matplotlib\n",
    "import seaborn as sns                                               # Importing seaborn library for interactive visualization\n",
    "%matplotlib inline\n",
    "plt.style.use('seaborn')\n",
    "#-------------------------------------------------------------------------------------------------------------------------------\n",
    "import scipy as sp                                                  # Importing library for scientific calculations\n",
    "#-------------------------------------------------------------------------------------------------------------------------------"
   ]
  },
  {
   "cell_type": "markdown",
   "metadata": {
    "colab_type": "text",
    "id": "ys9Qb4OlpzvZ"
   },
   "source": [
    "---\n",
    "<a name = Section4></a>\n",
    "# **4. Data Acquisition & Description**\n",
    "---\n",
    "\n",
    "- This section is emphasised on the accquiring the data and obtain some descriptive information out of it.\n",
    "\n",
    "- You could either scrap the data and then continue, or use a direct source of link (generally preferred in most cases).\n",
    "\n",
    "- You will be working with a direct source of link to head start your work without worrying about anything.\n",
    "\n",
    "- Before going further you must have a good idea about the features of the data set:\n",
    "\n",
    "|Id|Feature|Description|\n",
    "|:--|:--|:--|\n",
    "|01| car           | Car brand name| \n",
    "|02| model         | Available car different Variants|  \n",
    "|03| year          | purchasing Year| \n",
    "|04| body          | Body type-Hatchback, Sedan, Crossover etc|   \n",
    "|05| mileage       | car Mileage|\n",
    "|06| engV          | Engine version|\n",
    "|07| engType       | Car Fuel type - Petrol, Diesel, gas etc|\n",
    "|08| drive         | Wheel Drive Front, back|\n",
    "|09| registration  | Check if the vechile is registered|\n",
    "|10| price         | Price of Car in $|\n"
   ]
  },
  {
   "cell_type": "code",
   "execution_count": 3,
   "metadata": {
    "colab": {
     "base_uri": "https://localhost:8080/",
     "height": 221
    },
    "colab_type": "code",
    "executionInfo": {
     "elapsed": 1606,
     "status": "ok",
     "timestamp": 1600335367520,
     "user": {
      "displayName": "Mukesh Kumar",
      "photoUrl": "",
      "userId": "01238672520445611335"
     },
     "user_tz": -330
    },
    "id": "aXPrewndpw1T",
    "outputId": "8966e366-b48b-4d8a-aa51-549a2e6e7308"
   },
   "outputs": [
    {
     "name": "stdout",
     "output_type": "stream",
     "text": [
      "Data Shape: (9576, 10)\n"
     ]
    },
    {
     "data": {
      "text/html": [
       "<div>\n",
       "<style scoped>\n",
       "    .dataframe tbody tr th:only-of-type {\n",
       "        vertical-align: middle;\n",
       "    }\n",
       "\n",
       "    .dataframe tbody tr th {\n",
       "        vertical-align: top;\n",
       "    }\n",
       "\n",
       "    .dataframe thead th {\n",
       "        text-align: right;\n",
       "    }\n",
       "</style>\n",
       "<table border=\"1\" class=\"dataframe\">\n",
       "  <thead>\n",
       "    <tr style=\"text-align: right;\">\n",
       "      <th></th>\n",
       "      <th>car</th>\n",
       "      <th>price</th>\n",
       "      <th>body</th>\n",
       "      <th>mileage</th>\n",
       "      <th>engV</th>\n",
       "      <th>engType</th>\n",
       "      <th>registration</th>\n",
       "      <th>year</th>\n",
       "      <th>model</th>\n",
       "      <th>drive</th>\n",
       "    </tr>\n",
       "  </thead>\n",
       "  <tbody>\n",
       "    <tr>\n",
       "      <th>0</th>\n",
       "      <td>Ford</td>\n",
       "      <td>15500.0</td>\n",
       "      <td>crossover</td>\n",
       "      <td>68</td>\n",
       "      <td>2.5</td>\n",
       "      <td>Gas</td>\n",
       "      <td>yes</td>\n",
       "      <td>2010</td>\n",
       "      <td>Kuga</td>\n",
       "      <td>full</td>\n",
       "    </tr>\n",
       "    <tr>\n",
       "      <th>1</th>\n",
       "      <td>Mercedes-Benz</td>\n",
       "      <td>20500.0</td>\n",
       "      <td>sedan</td>\n",
       "      <td>173</td>\n",
       "      <td>1.8</td>\n",
       "      <td>Gas</td>\n",
       "      <td>yes</td>\n",
       "      <td>2011</td>\n",
       "      <td>E-Class</td>\n",
       "      <td>rear</td>\n",
       "    </tr>\n",
       "    <tr>\n",
       "      <th>2</th>\n",
       "      <td>Mercedes-Benz</td>\n",
       "      <td>35000.0</td>\n",
       "      <td>other</td>\n",
       "      <td>135</td>\n",
       "      <td>5.5</td>\n",
       "      <td>Petrol</td>\n",
       "      <td>yes</td>\n",
       "      <td>2008</td>\n",
       "      <td>CL 550</td>\n",
       "      <td>rear</td>\n",
       "    </tr>\n",
       "    <tr>\n",
       "      <th>3</th>\n",
       "      <td>Mercedes-Benz</td>\n",
       "      <td>17800.0</td>\n",
       "      <td>van</td>\n",
       "      <td>162</td>\n",
       "      <td>1.8</td>\n",
       "      <td>Diesel</td>\n",
       "      <td>yes</td>\n",
       "      <td>2012</td>\n",
       "      <td>B 180</td>\n",
       "      <td>front</td>\n",
       "    </tr>\n",
       "    <tr>\n",
       "      <th>4</th>\n",
       "      <td>Mercedes-Benz</td>\n",
       "      <td>33000.0</td>\n",
       "      <td>vagon</td>\n",
       "      <td>91</td>\n",
       "      <td>NaN</td>\n",
       "      <td>Other</td>\n",
       "      <td>yes</td>\n",
       "      <td>2013</td>\n",
       "      <td>E-Class</td>\n",
       "      <td>NaN</td>\n",
       "    </tr>\n",
       "  </tbody>\n",
       "</table>\n",
       "</div>"
      ],
      "text/plain": [
       "             car    price       body  mileage  engV engType registration  \\\n",
       "0           Ford  15500.0  crossover       68   2.5     Gas          yes   \n",
       "1  Mercedes-Benz  20500.0      sedan      173   1.8     Gas          yes   \n",
       "2  Mercedes-Benz  35000.0      other      135   5.5  Petrol          yes   \n",
       "3  Mercedes-Benz  17800.0        van      162   1.8  Diesel          yes   \n",
       "4  Mercedes-Benz  33000.0      vagon       91   NaN   Other          yes   \n",
       "\n",
       "   year    model  drive  \n",
       "0  2010     Kuga   full  \n",
       "1  2011  E-Class   rear  \n",
       "2  2008   CL 550   rear  \n",
       "3  2012    B 180  front  \n",
       "4  2013  E-Class    NaN  "
      ]
     },
     "execution_count": 3,
     "metadata": {},
     "output_type": "execute_result"
    }
   ],
   "source": [
    "carsales_df = pd.read_csv(filepath_or_buffer = 'https://raw.githubusercontent.com/insaid2018/Term-1/master/Data/Projects/car_sales.csv', encoding='cp1252')\n",
    "print('Data Shape:', carsales_df.shape)\n",
    "carsales_df.head()"
   ]
  },
  {
   "cell_type": "markdown",
   "metadata": {
    "colab_type": "text",
    "id": "FfkdFrL_qMPn"
   },
   "source": [
    "### **Data Description**\n",
    "\n",
    "- To get some quick description out of the data you can use describe method defined in pandas library."
   ]
  },
  {
   "cell_type": "code",
   "execution_count": 4,
   "metadata": {
    "colab": {},
    "colab_type": "code",
    "id": "cLs4jsSuqJjC"
   },
   "outputs": [
    {
     "data": {
      "text/html": [
       "<div>\n",
       "<style scoped>\n",
       "    .dataframe tbody tr th:only-of-type {\n",
       "        vertical-align: middle;\n",
       "    }\n",
       "\n",
       "    .dataframe tbody tr th {\n",
       "        vertical-align: top;\n",
       "    }\n",
       "\n",
       "    .dataframe thead th {\n",
       "        text-align: right;\n",
       "    }\n",
       "</style>\n",
       "<table border=\"1\" class=\"dataframe\">\n",
       "  <thead>\n",
       "    <tr style=\"text-align: right;\">\n",
       "      <th></th>\n",
       "      <th>price</th>\n",
       "      <th>mileage</th>\n",
       "      <th>engV</th>\n",
       "      <th>year</th>\n",
       "    </tr>\n",
       "  </thead>\n",
       "  <tbody>\n",
       "    <tr>\n",
       "      <th>count</th>\n",
       "      <td>9576.000000</td>\n",
       "      <td>9576.000000</td>\n",
       "      <td>9142.000000</td>\n",
       "      <td>9576.000000</td>\n",
       "    </tr>\n",
       "    <tr>\n",
       "      <th>mean</th>\n",
       "      <td>15633.317316</td>\n",
       "      <td>138.862364</td>\n",
       "      <td>2.646344</td>\n",
       "      <td>2006.605994</td>\n",
       "    </tr>\n",
       "    <tr>\n",
       "      <th>std</th>\n",
       "      <td>24106.523436</td>\n",
       "      <td>98.629754</td>\n",
       "      <td>5.927699</td>\n",
       "      <td>7.067924</td>\n",
       "    </tr>\n",
       "    <tr>\n",
       "      <th>min</th>\n",
       "      <td>0.000000</td>\n",
       "      <td>0.000000</td>\n",
       "      <td>0.100000</td>\n",
       "      <td>1953.000000</td>\n",
       "    </tr>\n",
       "    <tr>\n",
       "      <th>25%</th>\n",
       "      <td>4999.000000</td>\n",
       "      <td>70.000000</td>\n",
       "      <td>1.600000</td>\n",
       "      <td>2004.000000</td>\n",
       "    </tr>\n",
       "    <tr>\n",
       "      <th>50%</th>\n",
       "      <td>9200.000000</td>\n",
       "      <td>128.000000</td>\n",
       "      <td>2.000000</td>\n",
       "      <td>2008.000000</td>\n",
       "    </tr>\n",
       "    <tr>\n",
       "      <th>75%</th>\n",
       "      <td>16700.000000</td>\n",
       "      <td>194.000000</td>\n",
       "      <td>2.500000</td>\n",
       "      <td>2012.000000</td>\n",
       "    </tr>\n",
       "    <tr>\n",
       "      <th>max</th>\n",
       "      <td>547800.000000</td>\n",
       "      <td>999.000000</td>\n",
       "      <td>99.990000</td>\n",
       "      <td>2016.000000</td>\n",
       "    </tr>\n",
       "  </tbody>\n",
       "</table>\n",
       "</div>"
      ],
      "text/plain": [
       "               price      mileage         engV         year\n",
       "count    9576.000000  9576.000000  9142.000000  9576.000000\n",
       "mean    15633.317316   138.862364     2.646344  2006.605994\n",
       "std     24106.523436    98.629754     5.927699     7.067924\n",
       "min         0.000000     0.000000     0.100000  1953.000000\n",
       "25%      4999.000000    70.000000     1.600000  2004.000000\n",
       "50%      9200.000000   128.000000     2.000000  2008.000000\n",
       "75%     16700.000000   194.000000     2.500000  2012.000000\n",
       "max    547800.000000   999.000000    99.990000  2016.000000"
      ]
     },
     "execution_count": 4,
     "metadata": {},
     "output_type": "execute_result"
    }
   ],
   "source": [
    "# Describes the Data of the DataSet. Statistics of DatSet, Min, Max, Inter Quartile Ranges for all quantitative variables\n",
    "carsales_df.describe() "
   ]
  },
  {
   "cell_type": "markdown",
   "metadata": {},
   "source": [
    "---\n",
    "From this Describe function gives us basic statistics computed on the dataset\n",
    "* Among the 4 numerical columns, engine has less values in count (all are 9756 except engV). There could be some missing data which should be cleansed.\n",
    "* *Price* & *Mileage* is having min value as '0', which looks incorrect or outlier. Could be potential candidate for correction/discard the data\n",
    "---"
   ]
  },
  {
   "cell_type": "markdown",
   "metadata": {
    "colab_type": "text",
    "id": "lM-hljKpqXsp"
   },
   "source": [
    "### **Data Information**"
   ]
  },
  {
   "cell_type": "code",
   "execution_count": 5,
   "metadata": {
    "colab": {},
    "colab_type": "code",
    "id": "aPYZy6voqXc4"
   },
   "outputs": [
    {
     "name": "stdout",
     "output_type": "stream",
     "text": [
      "<class 'pandas.core.frame.DataFrame'>\n",
      "RangeIndex: 9576 entries, 0 to 9575\n",
      "Data columns (total 10 columns):\n",
      " #   Column        Non-Null Count  Dtype  \n",
      "---  ------        --------------  -----  \n",
      " 0   car           9576 non-null   object \n",
      " 1   price         9576 non-null   float64\n",
      " 2   body          9576 non-null   object \n",
      " 3   mileage       9576 non-null   int64  \n",
      " 4   engV          9142 non-null   float64\n",
      " 5   engType       9576 non-null   object \n",
      " 6   registration  9576 non-null   object \n",
      " 7   year          9576 non-null   int64  \n",
      " 8   model         9576 non-null   object \n",
      " 9   drive         9065 non-null   object \n",
      "dtypes: float64(2), int64(2), object(6)\n",
      "memory usage: 748.2+ KB\n"
     ]
    }
   ],
   "source": [
    "# Details about Dataframe index, Column Name, Non-null Count, and Datatype of the column\n",
    "carsales_df.info()"
   ]
  },
  {
   "cell_type": "markdown",
   "metadata": {},
   "source": [
    "---\n",
    "* We can observe engV and drive is missing/null values. \n",
    "* These missing or null values we cant replace with any default value\n",
    "* Any missing vaues can be replaced with calculated values\n",
    "    * For series of numerical values - mean\n",
    "    * For series of numerical values with outliers - mode"
   ]
  },
  {
   "cell_type": "markdown",
   "metadata": {
    "colab_type": "text",
    "id": "efZ8svauqc55"
   },
   "source": [
    "---\n",
    "<a name = Section5></a>\n",
    "# **5. Data Pre-Profiling**\n",
    "---\n",
    "\n",
    "- This section is emphasised on getting a report about the data.\n",
    "\n",
    "- You need to perform pandas profiling and get some observations out of it..."
   ]
  },
  {
   "cell_type": "code",
   "execution_count": 6,
   "metadata": {
    "colab": {},
    "colab_type": "code",
    "id": "VEHxAq8Zqcgo"
   },
   "outputs": [
    {
     "data": {
      "application/vnd.jupyter.widget-view+json": {
       "model_id": "0d08f79aa3ac4fefb47d525637318192",
       "version_major": 2,
       "version_minor": 0
      },
      "text/plain": [
       "HBox(children=(HTML(value='Summarize dataset'), FloatProgress(value=0.0, max=24.0), HTML(value='')))"
      ]
     },
     "metadata": {},
     "output_type": "display_data"
    },
    {
     "name": "stdout",
     "output_type": "stream",
     "text": [
      "\n"
     ]
    },
    {
     "data": {
      "application/vnd.jupyter.widget-view+json": {
       "model_id": "0ae613665d3743198c212453a7b2bcf2",
       "version_major": 2,
       "version_minor": 0
      },
      "text/plain": [
       "HBox(children=(HTML(value='Generate report structure'), FloatProgress(value=0.0, max=1.0), HTML(value='')))"
      ]
     },
     "metadata": {},
     "output_type": "display_data"
    },
    {
     "name": "stdout",
     "output_type": "stream",
     "text": [
      "\n"
     ]
    },
    {
     "data": {
      "application/vnd.jupyter.widget-view+json": {
       "model_id": "46bb22cd343448b186ab08600912cbf6",
       "version_major": 2,
       "version_minor": 0
      },
      "text/plain": [
       "HBox(children=(HTML(value='Render HTML'), FloatProgress(value=0.0, max=1.0), HTML(value='')))"
      ]
     },
     "metadata": {},
     "output_type": "display_data"
    },
    {
     "name": "stdout",
     "output_type": "stream",
     "text": [
      "\n"
     ]
    },
    {
     "data": {
      "application/vnd.jupyter.widget-view+json": {
       "model_id": "e0984b711f7349abbbb0df729bc64cbf",
       "version_major": 2,
       "version_minor": 0
      },
      "text/plain": [
       "HBox(children=(HTML(value='Export report to file'), FloatProgress(value=0.0, max=1.0), HTML(value='')))"
      ]
     },
     "metadata": {},
     "output_type": "display_data"
    },
    {
     "name": "stdout",
     "output_type": "stream",
     "text": [
      "\n"
     ]
    }
   ],
   "source": [
    "carsales_Profile = pandas_profiling.ProfileReport(carsales_df)\n",
    "carsales_Profile.to_file(\"CarSales_Before_Processing.html\")"
   ]
  },
  {
   "attachments": {
    "image.png": {
     "image/png": "[encoded data removed]"
    }
   },
   "cell_type": "markdown",
   "metadata": {},
   "source": [
    "---\n",
    "### The profiing report describes\n",
    "* There are 113 duplicated rows (Action - Remove the duplcates)\n",
    "* 1% of missing cells are in the dataset (Action - Replace with default/mean value or discard the record)\n",
    "* 5 Categorical variables, 4 numeric variables and 1 boolean value\n",
    "\n",
    "![image.png](attachment:image.png)"
   ]
  },
  {
   "cell_type": "markdown",
   "metadata": {
    "colab_type": "text",
    "id": "YMvtK0X-qoe6"
   },
   "source": [
    "---\n",
    "<a name = Section6></a>\n",
    "# **6. Data Pre-Processing**\n",
    "---\n",
    "\n",
    "- This section is emphasised on performing data manipulation over unstructured data for further processing and analysis.\n",
    "\n",
    "- To modify unstructured data to strucuted data you need to verify and manipulate the integrity of the data by:\n",
    "  - Handling missing data,\n",
    "\n",
    "  - Handling redundant data,\n",
    "\n",
    "  - Handling inconsistent data,\n",
    "\n",
    "  - Handling outliers,\n",
    "\n",
    "  - Handling typos"
   ]
  },
  {
   "cell_type": "markdown",
   "metadata": {},
   "source": [
    "# <div style=\"text-align:center;background: -webkit-linear-gradient(#fff, #888);-webkit-background-clip: text;-webkit-text-fill-color: transparent;\"> Data Cleansing </div>\n",
    "\n",
    "\n",
    "* Removing the duplicates (113 records identified)\n",
    "* Numerical Values to be fixed.\n",
    "    * engV - after removing duplicates there are **434** entries has '0' price value which seems like incorrect\n",
    "        * Queries\n",
    "            * carsales_df.engV.describe()\n",
    "            * carsales_df[carsales_df.engV == 0].car.count()\n",
    "            \n",
    "    * price - after removing duplicates there are **240** entries has '0' price value which seems like incorrect\n",
    "        * Queries\n",
    "            * carsales_df.price.describe()\n",
    "            * carsales_df[carsales_df.price == 0].car.count()\n",
    "            \n",
    "    * mileage - - after removing duplicates there are **310** entries has '0' mileage value which seems like incorrect\n",
    "        * Queries\n",
    "            * carsales_df.mileage.describe()\n",
    "            * carsales_df[carsales_df.mileage == 0].car.count()\n",
    "            \n",
    "* Categorical Values to be fixed\n",
    "    * Drive\n",
    "    * engType"
   ]
  },
  {
   "cell_type": "code",
   "execution_count": 7,
   "metadata": {
    "colab": {},
    "colab_type": "code",
    "id": "FxzbSzWDqytZ"
   },
   "outputs": [
    {
     "data": {
      "text/plain": [
       "(9463, 10)"
      ]
     },
     "execution_count": 7,
     "metadata": {},
     "output_type": "execute_result"
    }
   ],
   "source": [
    "# lets Drop the duplicate Value\n",
    "\n",
    "carsales_df.drop_duplicates(inplace=True)\n",
    "carsales_df.shape"
   ]
  },
  {
   "cell_type": "markdown",
   "metadata": {},
   "source": [
    "---\n",
    "<a name = Section6_1></a>\n",
    "### 6.1 Fixing *engV* missing / erroneous values"
   ]
  },
  {
   "cell_type": "code",
   "execution_count": 8,
   "metadata": {},
   "outputs": [
    {
     "data": {
      "text/html": [
       "<div>\n",
       "<style scoped>\n",
       "    .dataframe tbody tr th:only-of-type {\n",
       "        vertical-align: middle;\n",
       "    }\n",
       "\n",
       "    .dataframe tbody tr th {\n",
       "        vertical-align: top;\n",
       "    }\n",
       "\n",
       "    .dataframe thead th {\n",
       "        text-align: right;\n",
       "    }\n",
       "</style>\n",
       "<table border=\"1\" class=\"dataframe\">\n",
       "  <thead>\n",
       "    <tr style=\"text-align: right;\">\n",
       "      <th></th>\n",
       "      <th>car</th>\n",
       "      <th>model</th>\n",
       "      <th>engV_avg</th>\n",
       "    </tr>\n",
       "  </thead>\n",
       "  <tbody>\n",
       "    <tr>\n",
       "      <th>0</th>\n",
       "      <td>Acura</td>\n",
       "      <td>MDX</td>\n",
       "      <td>3.62</td>\n",
       "    </tr>\n",
       "    <tr>\n",
       "      <th>1</th>\n",
       "      <td>Acura</td>\n",
       "      <td>RL</td>\n",
       "      <td>3.50</td>\n",
       "    </tr>\n",
       "    <tr>\n",
       "      <th>2</th>\n",
       "      <td>Acura</td>\n",
       "      <td>TL</td>\n",
       "      <td>3.20</td>\n",
       "    </tr>\n",
       "    <tr>\n",
       "      <th>3</th>\n",
       "      <td>Acura</td>\n",
       "      <td>TLX</td>\n",
       "      <td>2.40</td>\n",
       "    </tr>\n",
       "    <tr>\n",
       "      <th>4</th>\n",
       "      <td>Acura</td>\n",
       "      <td>ZDX</td>\n",
       "      <td>3.70</td>\n",
       "    </tr>\n",
       "  </tbody>\n",
       "</table>\n",
       "</div>"
      ],
      "text/plain": [
       "     car model  engV_avg\n",
       "0  Acura   MDX      3.62\n",
       "1  Acura    RL      3.50\n",
       "2  Acura    TL      3.20\n",
       "3  Acura   TLX      2.40\n",
       "4  Acura   ZDX      3.70"
      ]
     },
     "execution_count": 8,
     "metadata": {},
     "output_type": "execute_result"
    }
   ],
   "source": [
    "'''\n",
    "Function that removes the ourlier entries of engV and returns dataframe\n",
    "'''\n",
    "def exclude_outliers_for_engV():\n",
    "    return pd.DataFrame(carsales_df[(carsales_df.engV > 0.5) & (carsales_df.engV < 25)])\n",
    "\n",
    "\n",
    "\n",
    "'''\n",
    "Function that computes the mean value of engV based on make and model \n",
    "'''\n",
    "def compute_engV_mean(r):\n",
    "    car_make = r.name[0]    \n",
    "    car_model = r.name[1]\n",
    "    if r.count() > 0:\n",
    "        return round(r.mean(),2)\n",
    "    else:\n",
    "        engV_df = exclude_outliers_for_engV()\n",
    "        engV_make = engV_df[engV_df.car == car_make].engV\n",
    "        if engV_make.count() > 0:\n",
    "            return round(engV_make.mean(),2)\n",
    "        else:\n",
    "            return round(engV_df.engV.mean(),2)\n",
    "        \n",
    "'''\n",
    "Create a staging \"engV mean\" dataframe for  all combinations of make and model\n",
    "'''\n",
    "engV_mean = carsales_df.groupby(['car','model']).engV.apply(compute_engV_mean).reset_index()\n",
    "engV_mean.rename(columns={'engV':'engV_avg'}, inplace=True)\n",
    "engV_mean.head(5)"
   ]
  },
  {
   "cell_type": "code",
   "execution_count": 9,
   "metadata": {},
   "outputs": [
    {
     "name": "stdout",
     "output_type": "stream",
     "text": [
      "--------------Before fix-----------------\n",
      "(434, 10)\n",
      "--------------After fix -----------------\n",
      "(0, 10)\n"
     ]
    }
   ],
   "source": [
    "'''\n",
    "Function that return engV value for missing records\n",
    "'''\n",
    "def get_missing_engV(r):\n",
    "    if pd.isnull(r.engV):\n",
    "        return engV_mean[(engV_mean.car == r.car) & (engV_mean.model == r.model)].engV_avg.values[0]\n",
    "    else:\n",
    "        return r.engV\n",
    "    \n",
    "\n",
    "'''\n",
    "Fix the missing engV values\n",
    "'''\n",
    "print('--------------Before fix-----------------')\n",
    "print(carsales_df[carsales_df.engV.isnull()].shape)\n",
    "\n",
    "carsales_df.engV = carsales_df.apply(get_missing_engV, axis=1)\n",
    "print('--------------After fix -----------------')\n",
    "print(carsales_df[carsales_df.engV.isnull()].shape)"
   ]
  },
  {
   "cell_type": "markdown",
   "metadata": {},
   "source": [
    "---\n",
    "<a name = Section6_2></a>\n",
    "### 6.2 Fixing *price* missing / erroneous values"
   ]
  },
  {
   "cell_type": "code",
   "execution_count": 10,
   "metadata": {},
   "outputs": [
    {
     "data": {
      "text/html": [
       "<div>\n",
       "<style scoped>\n",
       "    .dataframe tbody tr th:only-of-type {\n",
       "        vertical-align: middle;\n",
       "    }\n",
       "\n",
       "    .dataframe tbody tr th {\n",
       "        vertical-align: top;\n",
       "    }\n",
       "\n",
       "    .dataframe thead th {\n",
       "        text-align: right;\n",
       "    }\n",
       "</style>\n",
       "<table border=\"1\" class=\"dataframe\">\n",
       "  <thead>\n",
       "    <tr style=\"text-align: right;\">\n",
       "      <th></th>\n",
       "      <th>car</th>\n",
       "      <th>model</th>\n",
       "      <th>price_median</th>\n",
       "    </tr>\n",
       "  </thead>\n",
       "  <tbody>\n",
       "    <tr>\n",
       "      <th>0</th>\n",
       "      <td>Acura</td>\n",
       "      <td>MDX</td>\n",
       "      <td>17200.0</td>\n",
       "    </tr>\n",
       "    <tr>\n",
       "      <th>1</th>\n",
       "      <td>Acura</td>\n",
       "      <td>RL</td>\n",
       "      <td>13950.0</td>\n",
       "    </tr>\n",
       "    <tr>\n",
       "      <th>2</th>\n",
       "      <td>Acura</td>\n",
       "      <td>TL</td>\n",
       "      <td>8699.0</td>\n",
       "    </tr>\n",
       "    <tr>\n",
       "      <th>3</th>\n",
       "      <td>Acura</td>\n",
       "      <td>TLX</td>\n",
       "      <td>38200.0</td>\n",
       "    </tr>\n",
       "    <tr>\n",
       "      <th>4</th>\n",
       "      <td>Acura</td>\n",
       "      <td>ZDX</td>\n",
       "      <td>30999.0</td>\n",
       "    </tr>\n",
       "  </tbody>\n",
       "</table>\n",
       "</div>"
      ],
      "text/plain": [
       "     car model  price_median\n",
       "0  Acura   MDX       17200.0\n",
       "1  Acura    RL       13950.0\n",
       "2  Acura    TL        8699.0\n",
       "3  Acura   TLX       38200.0\n",
       "4  Acura   ZDX       30999.0"
      ]
     },
     "execution_count": 10,
     "metadata": {},
     "output_type": "execute_result"
    }
   ],
   "source": [
    "'''\n",
    "Function that computes the median value of price based on make and model \n",
    "'''\n",
    "def compute_price_median(r):\n",
    "    car_make = r.name[0]    \n",
    "    car_model = r.name[1]\n",
    "    if (r.count() > 0) & (r.median() > 0):\n",
    "        return r.median()\n",
    "    else:\n",
    "        price_make = carsales_df[carsales_df.car == car_make].price\n",
    "        if price_make.median() > 0:\n",
    "            return price_make.median()\n",
    "        else:\n",
    "            return carsales_df.price.median()\n",
    "\n",
    "        \n",
    "'''\n",
    "Create a staging \"Price median\" dataframe for  all combinations of make and model\n",
    "'''\n",
    "price_median = carsales_df.groupby(['car','model']).price.apply(compute_price_median).reset_index()\n",
    "price_median.rename(columns={'price':'price_median'}, inplace=True)\n",
    "price_median.head(5)"
   ]
  },
  {
   "cell_type": "code",
   "execution_count": 11,
   "metadata": {},
   "outputs": [
    {
     "name": "stdout",
     "output_type": "stream",
     "text": [
      "--------------Before fix-----------------\n",
      "(240, 10)\n",
      "--------------After fix -----------------\n",
      "(0, 10)\n"
     ]
    }
   ],
   "source": [
    "'''\n",
    "Function that return price value for missing records\n",
    "'''\n",
    "def get_missing_price(r):\n",
    "    if r.price == 0:\n",
    "        return price_median[(price_median.car == r.car) & (price_median.model == r.model)].price_median.values[0]\n",
    "    else:\n",
    "        return r.price\n",
    "    \n",
    "\n",
    "'''\n",
    "Fix the missing price values\n",
    "'''\n",
    "print('--------------Before fix-----------------')\n",
    "print(carsales_df[carsales_df.price == 0].shape)\n",
    "\n",
    "carsales_df.price = carsales_df.apply(get_missing_price, axis=1)\n",
    "print('--------------After fix -----------------')\n",
    "print(carsales_df[carsales_df.price == 0].shape)"
   ]
  },
  {
   "cell_type": "markdown",
   "metadata": {},
   "source": [
    "---\n",
    "<a name = Section6_3></a>\n",
    "### 6.3 Fixing *mileage* missing / erroneous values"
   ]
  },
  {
   "cell_type": "code",
   "execution_count": 12,
   "metadata": {},
   "outputs": [
    {
     "data": {
      "text/html": [
       "<div>\n",
       "<style scoped>\n",
       "    .dataframe tbody tr th:only-of-type {\n",
       "        vertical-align: middle;\n",
       "    }\n",
       "\n",
       "    .dataframe tbody tr th {\n",
       "        vertical-align: top;\n",
       "    }\n",
       "\n",
       "    .dataframe thead th {\n",
       "        text-align: right;\n",
       "    }\n",
       "</style>\n",
       "<table border=\"1\" class=\"dataframe\">\n",
       "  <thead>\n",
       "    <tr style=\"text-align: right;\">\n",
       "      <th></th>\n",
       "      <th>car</th>\n",
       "      <th>model</th>\n",
       "      <th>mileage_median</th>\n",
       "    </tr>\n",
       "  </thead>\n",
       "  <tbody>\n",
       "    <tr>\n",
       "      <th>0</th>\n",
       "      <td>Acura</td>\n",
       "      <td>MDX</td>\n",
       "      <td>85.0</td>\n",
       "    </tr>\n",
       "    <tr>\n",
       "      <th>1</th>\n",
       "      <td>Acura</td>\n",
       "      <td>RL</td>\n",
       "      <td>138.0</td>\n",
       "    </tr>\n",
       "    <tr>\n",
       "      <th>2</th>\n",
       "      <td>Acura</td>\n",
       "      <td>TL</td>\n",
       "      <td>145.0</td>\n",
       "    </tr>\n",
       "    <tr>\n",
       "      <th>3</th>\n",
       "      <td>Acura</td>\n",
       "      <td>TLX</td>\n",
       "      <td>4.0</td>\n",
       "    </tr>\n",
       "    <tr>\n",
       "      <th>4</th>\n",
       "      <td>Acura</td>\n",
       "      <td>ZDX</td>\n",
       "      <td>32.0</td>\n",
       "    </tr>\n",
       "  </tbody>\n",
       "</table>\n",
       "</div>"
      ],
      "text/plain": [
       "     car model  mileage_median\n",
       "0  Acura   MDX            85.0\n",
       "1  Acura    RL           138.0\n",
       "2  Acura    TL           145.0\n",
       "3  Acura   TLX             4.0\n",
       "4  Acura   ZDX            32.0"
      ]
     },
     "execution_count": 12,
     "metadata": {},
     "output_type": "execute_result"
    }
   ],
   "source": [
    "'''\n",
    "Function that computes the median value of mileage based on make and model \n",
    "'''\n",
    "def compute_mileage_median(r):\n",
    "    car_make = r.name[0]    \n",
    "    car_model = r.name[1]\n",
    "    if (r.count() > 0) & (r.median() > 0):\n",
    "        return r.median()\n",
    "    else:\n",
    "        mileage_make = carsales_df[carsales_df.car == car_make].mileage\n",
    "        if mileage_make.median() > 0:\n",
    "            return mileage_make.median()\n",
    "        else:\n",
    "            return carsales_df.mileage.median()\n",
    "        \n",
    "\n",
    "        '''\n",
    "Create a staging \"mileage median\" dataframe for  all combinations of make and model\n",
    "'''\n",
    "mileage_median = carsales_df.groupby(['car','model']).mileage.apply(compute_mileage_median).reset_index()\n",
    "mileage_median.rename(columns={'mileage':'mileage_median'}, inplace=True)\n",
    "mileage_median.head(5)"
   ]
  },
  {
   "cell_type": "code",
   "execution_count": 13,
   "metadata": {},
   "outputs": [
    {
     "name": "stdout",
     "output_type": "stream",
     "text": [
      "--------------Before fix-----------------\n",
      "(310, 10)\n",
      "--------------After fix -----------------\n",
      "(0, 10)\n"
     ]
    }
   ],
   "source": [
    "'''\n",
    "Function that return mileage value for missing records\n",
    "'''\n",
    "def get_missing_mileage(r):\n",
    "    if r.mileage == 0:\n",
    "        return mileage_median[(mileage_median.car == r.car) & (mileage_median.model == r.model)].mileage_median.values[0]\n",
    "    else:\n",
    "        return r.mileage\n",
    "    \n",
    "\n",
    "'''\n",
    "Fix the missing price values\n",
    "'''\n",
    "print('--------------Before fix-----------------')\n",
    "print(carsales_df[carsales_df.mileage == 0].shape)\n",
    "\n",
    "carsales_df.mileage = carsales_df.apply(get_missing_mileage, axis=1)\n",
    "print('--------------After fix -----------------')\n",
    "print(carsales_df[carsales_df.mileage == 0].shape)"
   ]
  },
  {
   "cell_type": "markdown",
   "metadata": {},
   "source": [
    "---\n",
    "<a name = Section6_4></a>\n",
    "### 6.4 Fixing *drive* missing / erroneous values"
   ]
  },
  {
   "cell_type": "code",
   "execution_count": 14,
   "metadata": {},
   "outputs": [
    {
     "data": {
      "text/html": [
       "<div>\n",
       "<style scoped>\n",
       "    .dataframe tbody tr th:only-of-type {\n",
       "        vertical-align: middle;\n",
       "    }\n",
       "\n",
       "    .dataframe tbody tr th {\n",
       "        vertical-align: top;\n",
       "    }\n",
       "\n",
       "    .dataframe thead th {\n",
       "        text-align: right;\n",
       "    }\n",
       "</style>\n",
       "<table border=\"1\" class=\"dataframe\">\n",
       "  <thead>\n",
       "    <tr style=\"text-align: right;\">\n",
       "      <th></th>\n",
       "      <th>car</th>\n",
       "      <th>model</th>\n",
       "      <th>drive_mode</th>\n",
       "    </tr>\n",
       "  </thead>\n",
       "  <tbody>\n",
       "    <tr>\n",
       "      <th>0</th>\n",
       "      <td>Acura</td>\n",
       "      <td>MDX</td>\n",
       "      <td>full</td>\n",
       "    </tr>\n",
       "    <tr>\n",
       "      <th>1</th>\n",
       "      <td>Acura</td>\n",
       "      <td>RL</td>\n",
       "      <td>full</td>\n",
       "    </tr>\n",
       "    <tr>\n",
       "      <th>2</th>\n",
       "      <td>Acura</td>\n",
       "      <td>TL</td>\n",
       "      <td>front</td>\n",
       "    </tr>\n",
       "    <tr>\n",
       "      <th>3</th>\n",
       "      <td>Acura</td>\n",
       "      <td>TLX</td>\n",
       "      <td>front</td>\n",
       "    </tr>\n",
       "    <tr>\n",
       "      <th>4</th>\n",
       "      <td>Acura</td>\n",
       "      <td>ZDX</td>\n",
       "      <td>full</td>\n",
       "    </tr>\n",
       "    <tr>\n",
       "      <th>...</th>\n",
       "      <td>...</td>\n",
       "      <td>...</td>\n",
       "      <td>...</td>\n",
       "    </tr>\n",
       "    <tr>\n",
       "      <th>914</th>\n",
       "      <td>ZX</td>\n",
       "      <td>LandMark</td>\n",
       "      <td>full</td>\n",
       "    </tr>\n",
       "    <tr>\n",
       "      <th>915</th>\n",
       "      <td>ËUAZ</td>\n",
       "      <td>1301</td>\n",
       "      <td>full</td>\n",
       "    </tr>\n",
       "    <tr>\n",
       "      <th>916</th>\n",
       "      <td>ËUAZ</td>\n",
       "      <td>1302</td>\n",
       "      <td>full</td>\n",
       "    </tr>\n",
       "    <tr>\n",
       "      <th>917</th>\n",
       "      <td>ËUAZ</td>\n",
       "      <td>969 Âîëûíü</td>\n",
       "      <td>full</td>\n",
       "    </tr>\n",
       "    <tr>\n",
       "      <th>918</th>\n",
       "      <td>ËUAZ</td>\n",
       "      <td>969Ì</td>\n",
       "      <td>full</td>\n",
       "    </tr>\n",
       "  </tbody>\n",
       "</table>\n",
       "<p>919 rows × 3 columns</p>\n",
       "</div>"
      ],
      "text/plain": [
       "       car       model drive_mode\n",
       "0    Acura         MDX       full\n",
       "1    Acura          RL       full\n",
       "2    Acura          TL      front\n",
       "3    Acura         TLX      front\n",
       "4    Acura         ZDX       full\n",
       "..     ...         ...        ...\n",
       "914     ZX    LandMark       full\n",
       "915   ËUAZ        1301       full\n",
       "916   ËUAZ        1302       full\n",
       "917   ËUAZ  969 Âîëûíü       full\n",
       "918   ËUAZ        969Ì       full\n",
       "\n",
       "[919 rows x 3 columns]"
      ]
     },
     "execution_count": 14,
     "metadata": {},
     "output_type": "execute_result"
    }
   ],
   "source": [
    "'''\n",
    "Function that removes the null entries of drive and returns dataframe\n",
    "'''\n",
    "def get_clensed_data_for_drive():\n",
    "    return pd.DataFrame(carsales_df[carsales_df.drive.isnull() == False])\n",
    "\n",
    "\n",
    "'''\n",
    "Function that computes the mode value of drive based on make and model \n",
    "'''\n",
    "def compute_drive(r):\n",
    "    car_make = r.name[0]    \n",
    "    car_model = r.name[1]\n",
    "    if r.count() > 0:\n",
    "        return r.mode()\n",
    "    else:\n",
    "        drive_df = get_clensed_data_for_drive()\n",
    "        drive_make = drive_df[drive_df.car == car_make].drive\n",
    "        if drive_make.count() > 0:\n",
    "            return drive_make.mode()\n",
    "        else:\n",
    "            return drive_df.drive.mode()\n",
    "        \n",
    "        \n",
    "'''\n",
    "Create a staging \"drive mode\" dataframe for  all combinations of make and model\n",
    "'''\n",
    "drive_mode = carsales_df.groupby(['car','model']).drive.apply(compute_drive).reset_index()\n",
    "drive_mode.rename(columns={'drive':'drive_mode'}, inplace=True)\n",
    "drive_mode.drop('level_2', axis=1)"
   ]
  },
  {
   "cell_type": "code",
   "execution_count": 15,
   "metadata": {},
   "outputs": [
    {
     "name": "stdout",
     "output_type": "stream",
     "text": [
      "--------------Before fix-----------------\n",
      "(510, 10)\n",
      "--------------After fix -----------------\n",
      "(0, 10)\n"
     ]
    }
   ],
   "source": [
    "'''\n",
    "Function that return drive value for missing records\n",
    "'''\n",
    "def get_missing_drive(r):\n",
    "    if pd.isnull(r.drive):\n",
    "        return drive_mode[(drive_mode.car == r.car) & (drive_mode.model == r.model)].drive_mode.values[0]\n",
    "    else:\n",
    "        return r.drive\n",
    "    \n",
    "'''\n",
    "Fix the missing drive values\n",
    "'''\n",
    "print('--------------Before fix-----------------')\n",
    "print(carsales_df[carsales_df.drive.isnull()].shape)\n",
    "\n",
    "carsales_df.drive = carsales_df.apply(get_missing_drive, axis=1)\n",
    "print('--------------After fix -----------------')\n",
    "print(carsales_df[carsales_df.drive.isnull()].shape)"
   ]
  },
  {
   "cell_type": "markdown",
   "metadata": {},
   "source": [
    "---\n",
    "<a name = Section6_5></a>\n",
    "### 6.5 Fixing *engType* missing / erroneous values"
   ]
  },
  {
   "cell_type": "code",
   "execution_count": 16,
   "metadata": {},
   "outputs": [
    {
     "data": {
      "text/html": [
       "<div>\n",
       "<style scoped>\n",
       "    .dataframe tbody tr th:only-of-type {\n",
       "        vertical-align: middle;\n",
       "    }\n",
       "\n",
       "    .dataframe tbody tr th {\n",
       "        vertical-align: top;\n",
       "    }\n",
       "\n",
       "    .dataframe thead th {\n",
       "        text-align: right;\n",
       "    }\n",
       "</style>\n",
       "<table border=\"1\" class=\"dataframe\">\n",
       "  <thead>\n",
       "    <tr style=\"text-align: right;\">\n",
       "      <th></th>\n",
       "      <th>car</th>\n",
       "      <th>model</th>\n",
       "      <th>engType_mode</th>\n",
       "    </tr>\n",
       "  </thead>\n",
       "  <tbody>\n",
       "    <tr>\n",
       "      <th>0</th>\n",
       "      <td>Acura</td>\n",
       "      <td>MDX</td>\n",
       "      <td>Petrol</td>\n",
       "    </tr>\n",
       "    <tr>\n",
       "      <th>1</th>\n",
       "      <td>Acura</td>\n",
       "      <td>RL</td>\n",
       "      <td>Gas</td>\n",
       "    </tr>\n",
       "    <tr>\n",
       "      <th>2</th>\n",
       "      <td>Acura</td>\n",
       "      <td>TL</td>\n",
       "      <td>Gas</td>\n",
       "    </tr>\n",
       "    <tr>\n",
       "      <th>3</th>\n",
       "      <td>Acura</td>\n",
       "      <td>TLX</td>\n",
       "      <td>Petrol</td>\n",
       "    </tr>\n",
       "    <tr>\n",
       "      <th>4</th>\n",
       "      <td>Acura</td>\n",
       "      <td>ZDX</td>\n",
       "      <td>Other</td>\n",
       "    </tr>\n",
       "    <tr>\n",
       "      <th>...</th>\n",
       "      <td>...</td>\n",
       "      <td>...</td>\n",
       "      <td>...</td>\n",
       "    </tr>\n",
       "    <tr>\n",
       "      <th>984</th>\n",
       "      <td>ZX</td>\n",
       "      <td>LandMark</td>\n",
       "      <td>Petrol</td>\n",
       "    </tr>\n",
       "    <tr>\n",
       "      <th>985</th>\n",
       "      <td>ËUAZ</td>\n",
       "      <td>1301</td>\n",
       "      <td>Petrol</td>\n",
       "    </tr>\n",
       "    <tr>\n",
       "      <th>986</th>\n",
       "      <td>ËUAZ</td>\n",
       "      <td>1302</td>\n",
       "      <td>Gas</td>\n",
       "    </tr>\n",
       "    <tr>\n",
       "      <th>987</th>\n",
       "      <td>ËUAZ</td>\n",
       "      <td>969 Âîëûíü</td>\n",
       "      <td>Petrol</td>\n",
       "    </tr>\n",
       "    <tr>\n",
       "      <th>988</th>\n",
       "      <td>ËUAZ</td>\n",
       "      <td>969Ì</td>\n",
       "      <td>Petrol</td>\n",
       "    </tr>\n",
       "  </tbody>\n",
       "</table>\n",
       "<p>989 rows × 3 columns</p>\n",
       "</div>"
      ],
      "text/plain": [
       "       car       model engType_mode\n",
       "0    Acura         MDX       Petrol\n",
       "1    Acura          RL          Gas\n",
       "2    Acura          TL          Gas\n",
       "3    Acura         TLX       Petrol\n",
       "4    Acura         ZDX        Other\n",
       "..     ...         ...          ...\n",
       "984     ZX    LandMark       Petrol\n",
       "985   ËUAZ        1301       Petrol\n",
       "986   ËUAZ        1302          Gas\n",
       "987   ËUAZ  969 Âîëûíü       Petrol\n",
       "988   ËUAZ        969Ì       Petrol\n",
       "\n",
       "[989 rows x 3 columns]"
      ]
     },
     "execution_count": 16,
     "metadata": {},
     "output_type": "execute_result"
    }
   ],
   "source": [
    "'''\n",
    "Function that removes the null entries of engType and returns dataframe\n",
    "'''\n",
    "def get_clensed_data_for_engType():\n",
    "    return pd.DataFrame(carsales_df[carsales_df.engType.isnull() == False])\n",
    "\n",
    "\n",
    "'''\n",
    "Function that computes the mode value of drive based on make and model \n",
    "'''\n",
    "def compute_engType(r):\n",
    "    car_make = r.name[0]    \n",
    "    car_model = r.name[1]\n",
    "    if r.count() > 0:\n",
    "        return r.mode()\n",
    "    else:\n",
    "        engType_df = get_clensed_data_for_engType()\n",
    "        engType_make = engType_df[engType_df.car == car_make].engType\n",
    "        if engType_make.count() > 0:\n",
    "            return engType_make.mode()\n",
    "        else:\n",
    "            return engType_df.engType.mode()\n",
    "        \n",
    "        \n",
    "'''\n",
    "Create a staging \"engType mode\" dataframe for  all combinations of make and model\n",
    "'''\n",
    "engType_mode = carsales_df.groupby(['car','model']).engType.apply(compute_engType).reset_index()\n",
    "engType_mode.rename(columns={'engType':'engType_mode'}, inplace=True)\n",
    "engType_mode.drop('level_2', axis=1)"
   ]
  },
  {
   "cell_type": "code",
   "execution_count": 17,
   "metadata": {},
   "outputs": [
    {
     "name": "stdout",
     "output_type": "stream",
     "text": [
      "--------------Before fix-----------------\n",
      "(0, 10)\n",
      "--------------After fix -----------------\n",
      "(0, 10)\n"
     ]
    }
   ],
   "source": [
    "'''\n",
    "Function that return drive value for missing records\n",
    "'''\n",
    "def get_missing_engType(r):\n",
    "    if pd.isnull(r.engType):\n",
    "        return engType_mode[(engType_mode.car == r.car) & (engType_mode.model == r.model)].engType_mode.values[0]\n",
    "    else:\n",
    "        return r.engType\n",
    "    \n",
    "'''\n",
    "Fix the missing engType values\n",
    "'''\n",
    "print('--------------Before fix-----------------')\n",
    "print(carsales_df[carsales_df.engType.isnull()].shape)\n",
    "\n",
    "carsales_df.engType = carsales_df.apply(get_missing_engType, axis=1)\n",
    "print('--------------After fix -----------------')\n",
    "print(carsales_df[carsales_df.engType.isnull()].shape)"
   ]
  },
  {
   "cell_type": "markdown",
   "metadata": {
    "colab_type": "text",
    "id": "amsQwri2q1_J"
   },
   "source": [
    "---\n",
    "<a name = Section7></a>\n",
    "# **7. Data Post-Profiling**\n",
    "---\n",
    "\n",
    "- This section is emphasised on getting a report about the data after the data manipulation.\n",
    "\n",
    "- You may end up observing some new changes, so keep it under check and make right observations."
   ]
  },
  {
   "cell_type": "code",
   "execution_count": 18,
   "metadata": {
    "colab": {},
    "colab_type": "code",
    "id": "87U7K8sWq1y5"
   },
   "outputs": [
    {
     "data": {
      "application/vnd.jupyter.widget-view+json": {
       "model_id": "0753991cd09b4b0eaee4afeb664b7602",
       "version_major": 2,
       "version_minor": 0
      },
      "text/plain": [
       "HBox(children=(HTML(value='Summarize dataset'), FloatProgress(value=0.0, max=25.0), HTML(value='')))"
      ]
     },
     "metadata": {},
     "output_type": "display_data"
    },
    {
     "name": "stdout",
     "output_type": "stream",
     "text": [
      "\n"
     ]
    },
    {
     "data": {
      "application/vnd.jupyter.widget-view+json": {
       "model_id": "18588e5dcb514a0ba749b1c09a1d180e",
       "version_major": 2,
       "version_minor": 0
      },
      "text/plain": [
       "HBox(children=(HTML(value='Generate report structure'), FloatProgress(value=0.0, max=1.0), HTML(value='')))"
      ]
     },
     "metadata": {},
     "output_type": "display_data"
    },
    {
     "name": "stdout",
     "output_type": "stream",
     "text": [
      "\n"
     ]
    },
    {
     "data": {
      "application/vnd.jupyter.widget-view+json": {
       "model_id": "c5bff33740b846139ebe76b3eccae3b7",
       "version_major": 2,
       "version_minor": 0
      },
      "text/plain": [
       "HBox(children=(HTML(value='Render HTML'), FloatProgress(value=0.0, max=1.0), HTML(value='')))"
      ]
     },
     "metadata": {},
     "output_type": "display_data"
    },
    {
     "name": "stdout",
     "output_type": "stream",
     "text": [
      "\n"
     ]
    },
    {
     "data": {
      "application/vnd.jupyter.widget-view+json": {
       "model_id": "e1d8e6ded29e48898f491b98c485c00e",
       "version_major": 2,
       "version_minor": 0
      },
      "text/plain": [
       "HBox(children=(HTML(value='Export report to file'), FloatProgress(value=0.0, max=1.0), HTML(value='')))"
      ]
     },
     "metadata": {},
     "output_type": "display_data"
    },
    {
     "name": "stdout",
     "output_type": "stream",
     "text": [
      "\n"
     ]
    }
   ],
   "source": [
    "carsales_Profile = pandas_profiling.ProfileReport(carsales_df)\n",
    "carsales_Profile.to_file(\"CarSales_Post_Processing.html\")"
   ]
  },
  {
   "attachments": {
    "image.png": {
     "image/png": "[encoded data removed]"
    }
   },
   "cell_type": "markdown",
   "metadata": {},
   "source": [
    "---\n",
    "<a name = Section7_1></a>\n",
    "### 7.1 CarSales dataset stats  & warnings\n",
    "<br>\n",
    "<br>\n",
    "\n",
    "![image.png](attachment:image.png)"
   ]
  },
  {
   "attachments": {
    "image.png": {
     "image/png": "[encoded data removed]"
    }
   },
   "cell_type": "markdown",
   "metadata": {},
   "source": [
    "![image.png](attachment:image.png)\n",
    "\n",
    "From the above observations, it looks the Carsales dataset is cleansed/processed correctly. \n",
    "* no missing values\n",
    "* no duplicate records\n",
    "\n",
    "Though the high cardiality has been observed on car and model columns (series), it's an expected behaviour of dataset\n",
    "\n",
    "Lets start visualizing the data. "
   ]
  },
  {
   "cell_type": "markdown",
   "metadata": {
    "colab_type": "text",
    "id": "taDvvLa9q-5p"
   },
   "source": [
    "---\n",
    "<a name = Section8></a>\n",
    "# **8. Exploratory Data Analysis**\n",
    "---\n",
    "\n",
    "- This section is emphasised on asking the right questions and perform analysis using the data.\n",
    "\n",
    "- Note that there is no limit how deep you can go, but make sure not to get distracted from right track."
   ]
  },
  {
   "cell_type": "markdown",
   "metadata": {
    "colab": {},
    "colab_type": "code",
    "id": "fwWa_FPerGCB"
   },
   "source": [
    "---\n",
    "<a href=\"Section8_1\"></a>\n",
    "### 8.1 Q - Which car manufacturer had highest sales?"
   ]
  },
  {
   "cell_type": "code",
   "execution_count": 19,
   "metadata": {},
   "outputs": [
    {
     "name": "stdout",
     "output_type": "stream",
     "text": [
      "               car\n",
      "Volkswagen     927\n",
      "Mercedes-Benz  885\n",
      "BMW            684\n",
      "Toyota         529\n",
      "VAZ            488\n"
     ]
    }
   ],
   "source": [
    "df = pd.DataFrame(carsales_df.car.value_counts())\n",
    "print(df.head())"
   ]
  },
  {
   "cell_type": "code",
   "execution_count": 29,
   "metadata": {},
   "outputs": [
    {
     "data": {
      "text/plain": [
       "Text(0.5, 1.0, 'Top 10 car brands on sale')"
      ]
     },
     "execution_count": 29,
     "metadata": {},
     "output_type": "execute_result"
    },
    {
     "data": {
      "image/png": "[encoded data removed]",
      "text/plain": [
       "<Figure size 1080x432 with 1 Axes>"
      ]
     },
     "metadata": {},
     "output_type": "display_data"
    }
   ],
   "source": [
    "ax = df.head(10).plot.bar(figsize=(15,6))\n",
    "for p in ax.patches:\n",
    "    ax.annotate(str(p.get_height()), (p.get_x() + (p.get_width()/4), p.get_height()+5), rotation=0)\n",
    "    \n",
    "plt.title(\"Top 10 car brands on sale\")"
   ]
  },
  {
   "cell_type": "markdown",
   "metadata": {},
   "source": [
    "From the dataset, the top performing car sales are from following manufacturers\n",
    "1. Volkswagen     927\n",
    "2. Mercedes-Benz  885\n",
    "3. BMW            684\n",
    "4. Toyota         529\n",
    "5. VAZ            488\n",
    "6. ..."
   ]
  },
  {
   "cell_type": "markdown",
   "metadata": {},
   "source": [
    "---\n",
    "<a href=\"Section8_2\"></a>\n",
    "### 8.2 Q - What is the sales trend for top selling car manufacturers?"
   ]
  },
  {
   "cell_type": "code",
   "execution_count": 67,
   "metadata": {},
   "outputs": [],
   "source": [
    "carsales_year_df = pd.DataFrame(carsales_df.groupby('year').car.value_counts())\n",
    "carsales_year_df.rename(columns={'car':'sales'}, inplace=True)\n",
    "carsales_year_df.reset_index(inplace=True)\n"
   ]
  },
  {
   "cell_type": "code",
   "execution_count": 68,
   "metadata": {},
   "outputs": [
    {
     "data": {
      "text/plain": [
       "<AxesSubplot:xlabel='year', ylabel='sales'>"
      ]
     },
     "execution_count": 68,
     "metadata": {},
     "output_type": "execute_result"
    },
    {
     "data": {
      "image/png": "[encoded data removed]",
      "text/plain": [
       "<Figure size 1440x576 with 1 Axes>"
      ]
     },
     "metadata": {},
     "output_type": "display_data"
    }
   ],
   "source": [
    "topCarBrandSales = carsales_year_df[carsales_year_df.car.isin(df.head(5).index)]\n",
    "fig, ax = plt.subplots(figsize=(20,8))\n",
    "sns.lineplot(data=topCarBrandSales, x='year', y='sales', hue='car')"
   ]
  },
  {
   "cell_type": "code",
   "execution_count": 70,
   "metadata": {},
   "outputs": [
    {
     "data": {
      "text/plain": [
       "<AxesSubplot:xlabel='year', ylabel='sales'>"
      ]
     },
     "execution_count": 70,
     "metadata": {},
     "output_type": "execute_result"
    },
    {
     "data": {
      "image/png": "[encoded data removed]",
      "text/plain": [
       "<Figure size 1440x576 with 1 Axes>"
      ]
     },
     "metadata": {},
     "output_type": "display_data"
    }
   ],
   "source": [
    "recentCarSalesTopBrands = carsales_year_df[carsales_year_df.car.isin(df.head(5).index) &  (carsales_year_df.year >= 2010)]\n",
    "fig, ax = plt.subplots(figsize=(20,8))\n",
    "sns.lineplot(data=recentCarSalesTopBrands, x='year', y='sales', hue='car')"
   ]
  },
  {
   "cell_type": "markdown",
   "metadata": {},
   "source": [
    "---\n",
    "\n",
    "### **Observations**:\n",
    "1. Overall Volkswagen used car are reported high sales and occupies 1st place, but the saleas are not performing very low in the recent past.\n",
    "2. Mercedes-Benz significantly performing best sales and followed by BMW. These brands sales are sky rocketed and proven the customer trust.\n",
    "3. Toyota cars are consistant in sales and keeping their position.\n",
    "4. On flip side, Volkswagen and Vaz car sales are under performing in recently."
   ]
  },
  {
   "cell_type": "markdown",
   "metadata": {},
   "source": [
    "---\n",
    "<a href=\"Section8_3\"></a>\n",
    "### 8.3 Q - Which cars gain or loose the market?"
   ]
  },
  {
   "cell_type": "code",
   "execution_count": 189,
   "metadata": {},
   "outputs": [],
   "source": [
    "'''\n",
    "Function that returns perticular year sales\n",
    "'''\n",
    "def get_SalesByYear(year):\n",
    "    return carsales_year_df[carsales_year_df.year == year]\n",
    "\n",
    "'''\n",
    "Function that returns rank of a car\n",
    "'''\n",
    "def get_CarSalesRankByYear(r):\n",
    "    result = get_SalesByYear(r.year).sales.unique()\n",
    "    i, = np.where(result == r.sales)\n",
    "    return i[0]+1"
   ]
  },
  {
   "cell_type": "code",
   "execution_count": 190,
   "metadata": {},
   "outputs": [],
   "source": [
    "# Add a new column called 'year_rank' to maintain year wise car sales rank\n",
    "\n",
    "carsales_year_df['year_rank'] = carsales_year_df.apply(get_CarSalesRankByYear, axis=1)"
   ]
  },
  {
   "cell_type": "code",
   "execution_count": 191,
   "metadata": {},
   "outputs": [
    {
     "data": {
      "text/plain": [
       "array(['Renault', 'Hyundai', 'Toyota', 'Volkswagen', 'Mercedes-Benz',\n",
       "       'Mitsubishi', 'Honda', 'BMW', 'Audi', 'Skoda', 'Nissan', 'Ford'],\n",
       "      dtype=object)"
      ]
     },
     "execution_count": 191,
     "metadata": {},
     "output_type": "execute_result"
    }
   ],
   "source": [
    "# Top 5 ranked cars from 2009\n",
    "\n",
    "recenttopcars = carsales_year_df[(carsales_year_df.year_rank <=5) &  (carsales_year_df.year >= 2009)].car.unique()\n",
    "recenttopcars"
   ]
  },
  {
   "cell_type": "code",
   "execution_count": 242,
   "metadata": {},
   "outputs": [
    {
     "data": {
      "text/plain": [
       "array(['VAZ', 'Audi', 'Ford', 'Mercedes-Benz', 'Moskvich-AZLK',\n",
       "       'Volkswagen', 'Lincoln', 'UAZ', 'GAZ', 'Opel', 'BMW', 'Nissan',\n",
       "       'Toyota', 'Mazda', 'Mitsubishi', 'Volvo', 'Renault', 'Fiat',\n",
       "       'Peugeot', 'Daewoo', 'Chevrolet', 'Skoda', 'Hyundai', 'Honda'],\n",
       "      dtype=object)"
      ]
     },
     "execution_count": 242,
     "metadata": {},
     "output_type": "execute_result"
    }
   ],
   "source": [
    "topcarbrands = carsales_year_df[(carsales_year_df.year_rank <=5) &  (carsales_year_df.year >= 1980)].car.unique()\n",
    "topcarbrands"
   ]
  },
  {
   "cell_type": "code",
   "execution_count": 233,
   "metadata": {},
   "outputs": [],
   "source": [
    "recentCarSalesRanks = carsales_year_df[carsales_year_df.car.isin(recenttopcars) & (carsales_year_df.year >= 2009)]"
   ]
  },
  {
   "cell_type": "code",
   "execution_count": 234,
   "metadata": {},
   "outputs": [
    {
     "data": {
      "text/html": [
       "<div>\n",
       "<style scoped>\n",
       "    .dataframe tbody tr th:only-of-type {\n",
       "        vertical-align: middle;\n",
       "    }\n",
       "\n",
       "    .dataframe tbody tr th {\n",
       "        vertical-align: top;\n",
       "    }\n",
       "\n",
       "    .dataframe thead th {\n",
       "        text-align: right;\n",
       "    }\n",
       "</style>\n",
       "<table border=\"1\" class=\"dataframe\">\n",
       "  <thead>\n",
       "    <tr style=\"text-align: right;\">\n",
       "      <th>car</th>\n",
       "      <th>Audi</th>\n",
       "      <th>BMW</th>\n",
       "      <th>Ford</th>\n",
       "      <th>Honda</th>\n",
       "      <th>Hyundai</th>\n",
       "      <th>Mercedes-Benz</th>\n",
       "      <th>Mitsubishi</th>\n",
       "      <th>Nissan</th>\n",
       "      <th>Renault</th>\n",
       "      <th>Skoda</th>\n",
       "      <th>Toyota</th>\n",
       "      <th>Volkswagen</th>\n",
       "    </tr>\n",
       "    <tr>\n",
       "      <th>year</th>\n",
       "      <th></th>\n",
       "      <th></th>\n",
       "      <th></th>\n",
       "      <th></th>\n",
       "      <th></th>\n",
       "      <th></th>\n",
       "      <th></th>\n",
       "      <th></th>\n",
       "      <th></th>\n",
       "      <th></th>\n",
       "      <th></th>\n",
       "      <th></th>\n",
       "    </tr>\n",
       "  </thead>\n",
       "  <tbody>\n",
       "    <tr>\n",
       "      <th>2009</th>\n",
       "      <td>16</td>\n",
       "      <td>13</td>\n",
       "      <td>6</td>\n",
       "      <td>18</td>\n",
       "      <td>22</td>\n",
       "      <td>21</td>\n",
       "      <td>19</td>\n",
       "      <td>12</td>\n",
       "      <td>23</td>\n",
       "      <td>15</td>\n",
       "      <td>22</td>\n",
       "      <td>22</td>\n",
       "    </tr>\n",
       "    <tr>\n",
       "      <th>2010</th>\n",
       "      <td>25</td>\n",
       "      <td>26</td>\n",
       "      <td>20</td>\n",
       "      <td>7</td>\n",
       "      <td>12</td>\n",
       "      <td>33</td>\n",
       "      <td>6</td>\n",
       "      <td>16</td>\n",
       "      <td>24</td>\n",
       "      <td>22</td>\n",
       "      <td>20</td>\n",
       "      <td>39</td>\n",
       "    </tr>\n",
       "    <tr>\n",
       "      <th>2011</th>\n",
       "      <td>23</td>\n",
       "      <td>47</td>\n",
       "      <td>37</td>\n",
       "      <td>19</td>\n",
       "      <td>60</td>\n",
       "      <td>54</td>\n",
       "      <td>16</td>\n",
       "      <td>25</td>\n",
       "      <td>44</td>\n",
       "      <td>36</td>\n",
       "      <td>30</td>\n",
       "      <td>97</td>\n",
       "    </tr>\n",
       "    <tr>\n",
       "      <th>2012</th>\n",
       "      <td>19</td>\n",
       "      <td>35</td>\n",
       "      <td>32</td>\n",
       "      <td>17</td>\n",
       "      <td>38</td>\n",
       "      <td>44</td>\n",
       "      <td>12</td>\n",
       "      <td>22</td>\n",
       "      <td>94</td>\n",
       "      <td>60</td>\n",
       "      <td>43</td>\n",
       "      <td>104</td>\n",
       "    </tr>\n",
       "    <tr>\n",
       "      <th>2013</th>\n",
       "      <td>31</td>\n",
       "      <td>28</td>\n",
       "      <td>38</td>\n",
       "      <td>3</td>\n",
       "      <td>28</td>\n",
       "      <td>44</td>\n",
       "      <td>10</td>\n",
       "      <td>59</td>\n",
       "      <td>35</td>\n",
       "      <td>20</td>\n",
       "      <td>45</td>\n",
       "      <td>69</td>\n",
       "    </tr>\n",
       "    <tr>\n",
       "      <th>2014</th>\n",
       "      <td>16</td>\n",
       "      <td>22</td>\n",
       "      <td>18</td>\n",
       "      <td>4</td>\n",
       "      <td>9</td>\n",
       "      <td>36</td>\n",
       "      <td>5</td>\n",
       "      <td>29</td>\n",
       "      <td>14</td>\n",
       "      <td>14</td>\n",
       "      <td>31</td>\n",
       "      <td>34</td>\n",
       "    </tr>\n",
       "    <tr>\n",
       "      <th>2015</th>\n",
       "      <td>13</td>\n",
       "      <td>20</td>\n",
       "      <td>14</td>\n",
       "      <td>3</td>\n",
       "      <td>5</td>\n",
       "      <td>28</td>\n",
       "      <td>2</td>\n",
       "      <td>26</td>\n",
       "      <td>3</td>\n",
       "      <td>6</td>\n",
       "      <td>21</td>\n",
       "      <td>23</td>\n",
       "    </tr>\n",
       "    <tr>\n",
       "      <th>2016</th>\n",
       "      <td>13</td>\n",
       "      <td>51</td>\n",
       "      <td>14</td>\n",
       "      <td>9</td>\n",
       "      <td>26</td>\n",
       "      <td>75</td>\n",
       "      <td>10</td>\n",
       "      <td>12</td>\n",
       "      <td>14</td>\n",
       "      <td>18</td>\n",
       "      <td>32</td>\n",
       "      <td>29</td>\n",
       "    </tr>\n",
       "  </tbody>\n",
       "</table>\n",
       "</div>"
      ],
      "text/plain": [
       "car   Audi  BMW  Ford  Honda  Hyundai  Mercedes-Benz  Mitsubishi  Nissan  \\\n",
       "year                                                                       \n",
       "2009    16   13     6     18       22             21          19      12   \n",
       "2010    25   26    20      7       12             33           6      16   \n",
       "2011    23   47    37     19       60             54          16      25   \n",
       "2012    19   35    32     17       38             44          12      22   \n",
       "2013    31   28    38      3       28             44          10      59   \n",
       "2014    16   22    18      4        9             36           5      29   \n",
       "2015    13   20    14      3        5             28           2      26   \n",
       "2016    13   51    14      9       26             75          10      12   \n",
       "\n",
       "car   Renault  Skoda  Toyota  Volkswagen  \n",
       "year                                      \n",
       "2009       23     15      22          22  \n",
       "2010       24     22      20          39  \n",
       "2011       44     36      30          97  \n",
       "2012       94     60      43         104  \n",
       "2013       35     20      45          69  \n",
       "2014       14     14      31          34  \n",
       "2015        3      6      21          23  \n",
       "2016       14     18      32          29  "
      ]
     },
     "execution_count": 234,
     "metadata": {},
     "output_type": "execute_result"
    }
   ],
   "source": [
    "recentCarSalesRanks.pivot_table(index=['year'], columns={'car'}, values='sales')"
   ]
  },
  {
   "cell_type": "code",
   "execution_count": 235,
   "metadata": {},
   "outputs": [
    {
     "data": {
      "text/html": [
       "<div>\n",
       "<style scoped>\n",
       "    .dataframe tbody tr th:only-of-type {\n",
       "        vertical-align: middle;\n",
       "    }\n",
       "\n",
       "    .dataframe tbody tr th {\n",
       "        vertical-align: top;\n",
       "    }\n",
       "\n",
       "    .dataframe thead th {\n",
       "        text-align: right;\n",
       "    }\n",
       "</style>\n",
       "<table border=\"1\" class=\"dataframe\">\n",
       "  <thead>\n",
       "    <tr style=\"text-align: right;\">\n",
       "      <th>car</th>\n",
       "      <th>Audi</th>\n",
       "      <th>BMW</th>\n",
       "      <th>Ford</th>\n",
       "      <th>Honda</th>\n",
       "      <th>Hyundai</th>\n",
       "      <th>Mercedes-Benz</th>\n",
       "      <th>Mitsubishi</th>\n",
       "      <th>Nissan</th>\n",
       "      <th>Renault</th>\n",
       "      <th>Skoda</th>\n",
       "      <th>Toyota</th>\n",
       "      <th>Volkswagen</th>\n",
       "    </tr>\n",
       "    <tr>\n",
       "      <th>year</th>\n",
       "      <th></th>\n",
       "      <th></th>\n",
       "      <th></th>\n",
       "      <th></th>\n",
       "      <th></th>\n",
       "      <th></th>\n",
       "      <th></th>\n",
       "      <th></th>\n",
       "      <th></th>\n",
       "      <th></th>\n",
       "      <th></th>\n",
       "      <th></th>\n",
       "    </tr>\n",
       "  </thead>\n",
       "  <tbody>\n",
       "    <tr>\n",
       "      <th>2009</th>\n",
       "      <td>6</td>\n",
       "      <td>8</td>\n",
       "      <td>12</td>\n",
       "      <td>5</td>\n",
       "      <td>2</td>\n",
       "      <td>3</td>\n",
       "      <td>4</td>\n",
       "      <td>9</td>\n",
       "      <td>1</td>\n",
       "      <td>7</td>\n",
       "      <td>2</td>\n",
       "      <td>2</td>\n",
       "    </tr>\n",
       "    <tr>\n",
       "      <th>2010</th>\n",
       "      <td>4</td>\n",
       "      <td>3</td>\n",
       "      <td>7</td>\n",
       "      <td>13</td>\n",
       "      <td>10</td>\n",
       "      <td>2</td>\n",
       "      <td>14</td>\n",
       "      <td>8</td>\n",
       "      <td>5</td>\n",
       "      <td>6</td>\n",
       "      <td>7</td>\n",
       "      <td>1</td>\n",
       "    </tr>\n",
       "    <tr>\n",
       "      <th>2011</th>\n",
       "      <td>10</td>\n",
       "      <td>4</td>\n",
       "      <td>6</td>\n",
       "      <td>12</td>\n",
       "      <td>2</td>\n",
       "      <td>3</td>\n",
       "      <td>15</td>\n",
       "      <td>9</td>\n",
       "      <td>5</td>\n",
       "      <td>7</td>\n",
       "      <td>8</td>\n",
       "      <td>1</td>\n",
       "    </tr>\n",
       "    <tr>\n",
       "      <th>2012</th>\n",
       "      <td>12</td>\n",
       "      <td>7</td>\n",
       "      <td>8</td>\n",
       "      <td>14</td>\n",
       "      <td>6</td>\n",
       "      <td>4</td>\n",
       "      <td>16</td>\n",
       "      <td>11</td>\n",
       "      <td>2</td>\n",
       "      <td>3</td>\n",
       "      <td>5</td>\n",
       "      <td>1</td>\n",
       "    </tr>\n",
       "    <tr>\n",
       "      <th>2013</th>\n",
       "      <td>8</td>\n",
       "      <td>9</td>\n",
       "      <td>5</td>\n",
       "      <td>22</td>\n",
       "      <td>9</td>\n",
       "      <td>4</td>\n",
       "      <td>16</td>\n",
       "      <td>2</td>\n",
       "      <td>6</td>\n",
       "      <td>11</td>\n",
       "      <td>3</td>\n",
       "      <td>1</td>\n",
       "    </tr>\n",
       "    <tr>\n",
       "      <th>2014</th>\n",
       "      <td>7</td>\n",
       "      <td>5</td>\n",
       "      <td>6</td>\n",
       "      <td>14</td>\n",
       "      <td>9</td>\n",
       "      <td>1</td>\n",
       "      <td>13</td>\n",
       "      <td>4</td>\n",
       "      <td>8</td>\n",
       "      <td>8</td>\n",
       "      <td>3</td>\n",
       "      <td>2</td>\n",
       "    </tr>\n",
       "    <tr>\n",
       "      <th>2015</th>\n",
       "      <td>7</td>\n",
       "      <td>5</td>\n",
       "      <td>6</td>\n",
       "      <td>13</td>\n",
       "      <td>11</td>\n",
       "      <td>1</td>\n",
       "      <td>14</td>\n",
       "      <td>2</td>\n",
       "      <td>13</td>\n",
       "      <td>10</td>\n",
       "      <td>4</td>\n",
       "      <td>3</td>\n",
       "    </tr>\n",
       "    <tr>\n",
       "      <th>2016</th>\n",
       "      <td>8</td>\n",
       "      <td>2</td>\n",
       "      <td>7</td>\n",
       "      <td>11</td>\n",
       "      <td>5</td>\n",
       "      <td>1</td>\n",
       "      <td>10</td>\n",
       "      <td>9</td>\n",
       "      <td>7</td>\n",
       "      <td>6</td>\n",
       "      <td>3</td>\n",
       "      <td>4</td>\n",
       "    </tr>\n",
       "  </tbody>\n",
       "</table>\n",
       "</div>"
      ],
      "text/plain": [
       "car   Audi  BMW  Ford  Honda  Hyundai  Mercedes-Benz  Mitsubishi  Nissan  \\\n",
       "year                                                                       \n",
       "2009     6    8    12      5        2              3           4       9   \n",
       "2010     4    3     7     13       10              2          14       8   \n",
       "2011    10    4     6     12        2              3          15       9   \n",
       "2012    12    7     8     14        6              4          16      11   \n",
       "2013     8    9     5     22        9              4          16       2   \n",
       "2014     7    5     6     14        9              1          13       4   \n",
       "2015     7    5     6     13       11              1          14       2   \n",
       "2016     8    2     7     11        5              1          10       9   \n",
       "\n",
       "car   Renault  Skoda  Toyota  Volkswagen  \n",
       "year                                      \n",
       "2009        1      7       2           2  \n",
       "2010        5      6       7           1  \n",
       "2011        5      7       8           1  \n",
       "2012        2      3       5           1  \n",
       "2013        6     11       3           1  \n",
       "2014        8      8       3           2  \n",
       "2015       13     10       4           3  \n",
       "2016        7      6       3           4  "
      ]
     },
     "execution_count": 235,
     "metadata": {},
     "output_type": "execute_result"
    }
   ],
   "source": [
    "recentCarSalesRanks.pivot_table(index=['year'], columns={'car'}, values='year_rank')"
   ]
  },
  {
   "cell_type": "code",
   "execution_count": 236,
   "metadata": {},
   "outputs": [
    {
     "data": {
      "text/plain": [
       "<seaborn.axisgrid.FacetGrid at 0x1fe045b1108>"
      ]
     },
     "execution_count": 236,
     "metadata": {},
     "output_type": "execute_result"
    },
    {
     "data": {
      "image/png": "[encoded data removed]",
      "text/plain": [
       "<Figure size 864x648 with 12 Axes>"
      ]
     },
     "metadata": {},
     "output_type": "display_data"
    }
   ],
   "source": [
    "sns.lmplot(data=recentCarSalesRanks, x='year', y='sales', col='car', fit_reg=True, hue='car', col_wrap=4, height=3)"
   ]
  },
  {
   "cell_type": "code",
   "execution_count": 237,
   "metadata": {},
   "outputs": [
    {
     "data": {
      "text/plain": [
       "<seaborn.axisgrid.FacetGrid at 0x1fe05cf3c48>"
      ]
     },
     "execution_count": 237,
     "metadata": {},
     "output_type": "execute_result"
    },
    {
     "data": {
      "image/png": "[encoded data removed]",
      "text/plain": [
       "<Figure size 864x648 with 12 Axes>"
      ]
     },
     "metadata": {},
     "output_type": "display_data"
    }
   ],
   "source": [
    "sns.lmplot(data=recentCarSalesRanks, x='year', y='year_rank', col='car', fit_reg=True, hue='car', col_wrap=4, height=3)"
   ]
  },
  {
   "cell_type": "code",
   "execution_count": 239,
   "metadata": {},
   "outputs": [
    {
     "data": {
      "text/plain": [
       "<seaborn.axisgrid.FacetGrid at 0x1fe065bd8c8>"
      ]
     },
     "execution_count": 239,
     "metadata": {},
     "output_type": "execute_result"
    },
    {
     "data": {
      "image/png": "[encoded data removed]",
      "text/plain": [
       "<Figure size 466.125x360 with 1 Axes>"
      ]
     },
     "metadata": {},
     "output_type": "display_data"
    }
   ],
   "source": [
    "sns.catplot(x=\"year\", y=\"year_rank\", hue=\"car\", kind=\"swarm\", data=recentCarSalesRanks)"
   ]
  },
  {
   "cell_type": "code",
   "execution_count": 243,
   "metadata": {},
   "outputs": [],
   "source": [
    "topcarbrands = pd.DataFrame(topcarbrands)\n",
    "topcarbrands.rename(columns={0:'car'}, inplace=True)"
   ]
  },
  {
   "cell_type": "code",
   "execution_count": 244,
   "metadata": {},
   "outputs": [],
   "source": [
    "def get_IsTopSelling(r):\n",
    "    return r.car in recenttopcars\n",
    "\n",
    "topcarbrands['is_top_selling'] = topcarbrands.apply(get_IsTopSelling, axis=1)"
   ]
  },
  {
   "cell_type": "code",
   "execution_count": 245,
   "metadata": {},
   "outputs": [
    {
     "name": "stdout",
     "output_type": "stream",
     "text": [
      "0               VAZ\n",
      "4     Moskvich-AZLK\n",
      "6           Lincoln\n",
      "7               UAZ\n",
      "8               GAZ\n",
      "9              Opel\n",
      "13            Mazda\n",
      "15            Volvo\n",
      "17             Fiat\n",
      "18          Peugeot\n",
      "19           Daewoo\n",
      "20        Chevrolet\n",
      "Name: car, dtype: object 1              Audi\n",
      "2              Ford\n",
      "3     Mercedes-Benz\n",
      "5        Volkswagen\n",
      "10              BMW\n",
      "11           Nissan\n",
      "12           Toyota\n",
      "14       Mitsubishi\n",
      "16          Renault\n",
      "21            Skoda\n",
      "22          Hyundai\n",
      "23            Honda\n",
      "Name: car, dtype: object\n"
     ]
    }
   ],
   "source": [
    "print(topcarbrands[topcarbrands.is_top_selling == False].car, topcarbrands[topcarbrands.is_top_selling == True].car)"
   ]
  },
  {
   "cell_type": "markdown",
   "metadata": {},
   "source": [
    "---\n",
    "\n",
    "### **Observations**:\n",
    "\n",
    "* Following are the brands which **loose the market**\n",
    "    * VAZ\n",
    "    * Moskvich-AZLK\n",
    "    * Lincoln\n",
    "    * UAZ\n",
    "    * GAZ\n",
    "    * Opel\n",
    "    * Mazda\n",
    "    * Volvo\n",
    "    * Fiat\n",
    "    * Peugeot\n",
    "    * Daewoo\n",
    "    * Chevrolet\n",
    " \n",
    "* Following are the brands which **gain/sustain the market**\n",
    "    * Audi\n",
    "    * Ford\n",
    "    * Mercedes-Benz\n",
    "    * Volkswagen\n",
    "    * BMW\n",
    "    * Nissan\n",
    "    * Toyota\n",
    "    * Mitsubishi\n",
    "    * Renault\n",
    "    * Skoda\n",
    "    * Hyundai\n",
    "    * Honda\n",
    "    \n",
    "---"
   ]
  },
  {
   "cell_type": "markdown",
   "metadata": {},
   "source": [
    "---\n",
    "<a href=\"Section8_4\"></a>\n",
    "### 8.4 Q - What are the top 5 expensive cars & models and their sales?"
   ]
  },
  {
   "cell_type": "code",
   "execution_count": 246,
   "metadata": {},
   "outputs": [
    {
     "data": {
      "text/html": [
       "<div>\n",
       "<style scoped>\n",
       "    .dataframe tbody tr th:only-of-type {\n",
       "        vertical-align: middle;\n",
       "    }\n",
       "\n",
       "    .dataframe tbody tr th {\n",
       "        vertical-align: top;\n",
       "    }\n",
       "\n",
       "    .dataframe thead th {\n",
       "        text-align: right;\n",
       "    }\n",
       "</style>\n",
       "<table border=\"1\" class=\"dataframe\">\n",
       "  <thead>\n",
       "    <tr style=\"text-align: right;\">\n",
       "      <th></th>\n",
       "      <th>car</th>\n",
       "      <th>price</th>\n",
       "      <th>body</th>\n",
       "      <th>mileage</th>\n",
       "      <th>engV</th>\n",
       "      <th>engType</th>\n",
       "      <th>registration</th>\n",
       "      <th>year</th>\n",
       "      <th>model</th>\n",
       "      <th>drive</th>\n",
       "    </tr>\n",
       "  </thead>\n",
       "  <tbody>\n",
       "    <tr>\n",
       "      <th>7621</th>\n",
       "      <td>Bentley</td>\n",
       "      <td>547800.0</td>\n",
       "      <td>sedan</td>\n",
       "      <td>20.0</td>\n",
       "      <td>6.75</td>\n",
       "      <td>Petrol</td>\n",
       "      <td>yes</td>\n",
       "      <td>2016</td>\n",
       "      <td>Mulsanne</td>\n",
       "      <td>rear</td>\n",
       "    </tr>\n",
       "    <tr>\n",
       "      <th>1611</th>\n",
       "      <td>Bentley</td>\n",
       "      <td>499999.0</td>\n",
       "      <td>crossover</td>\n",
       "      <td>20.0</td>\n",
       "      <td>6.00</td>\n",
       "      <td>Petrol</td>\n",
       "      <td>yes</td>\n",
       "      <td>2016</td>\n",
       "      <td>Bentayga</td>\n",
       "      <td>full</td>\n",
       "    </tr>\n",
       "    <tr>\n",
       "      <th>2637</th>\n",
       "      <td>Bentley</td>\n",
       "      <td>449999.0</td>\n",
       "      <td>crossover</td>\n",
       "      <td>1.0</td>\n",
       "      <td>6.00</td>\n",
       "      <td>Petrol</td>\n",
       "      <td>yes</td>\n",
       "      <td>2016</td>\n",
       "      <td>Bentayga</td>\n",
       "      <td>full</td>\n",
       "    </tr>\n",
       "    <tr>\n",
       "      <th>4134</th>\n",
       "      <td>Bentley</td>\n",
       "      <td>449999.0</td>\n",
       "      <td>crossover</td>\n",
       "      <td>20.0</td>\n",
       "      <td>6.00</td>\n",
       "      <td>Petrol</td>\n",
       "      <td>yes</td>\n",
       "      <td>2016</td>\n",
       "      <td>Bentayga</td>\n",
       "      <td>full</td>\n",
       "    </tr>\n",
       "    <tr>\n",
       "      <th>4325</th>\n",
       "      <td>Mercedes-Benz</td>\n",
       "      <td>300000.0</td>\n",
       "      <td>sedan</td>\n",
       "      <td>68.0</td>\n",
       "      <td>6.00</td>\n",
       "      <td>Petrol</td>\n",
       "      <td>yes</td>\n",
       "      <td>2011</td>\n",
       "      <td>S 600</td>\n",
       "      <td>rear</td>\n",
       "    </tr>\n",
       "    <tr>\n",
       "      <th>5849</th>\n",
       "      <td>Mercedes-Benz</td>\n",
       "      <td>300000.0</td>\n",
       "      <td>other</td>\n",
       "      <td>37.0</td>\n",
       "      <td>5.00</td>\n",
       "      <td>Petrol</td>\n",
       "      <td>yes</td>\n",
       "      <td>2012</td>\n",
       "      <td>G 500</td>\n",
       "      <td>full</td>\n",
       "    </tr>\n",
       "  </tbody>\n",
       "</table>\n",
       "</div>"
      ],
      "text/plain": [
       "                car     price       body  mileage  engV engType registration  \\\n",
       "7621        Bentley  547800.0      sedan     20.0  6.75  Petrol          yes   \n",
       "1611        Bentley  499999.0  crossover     20.0  6.00  Petrol          yes   \n",
       "2637        Bentley  449999.0  crossover      1.0  6.00  Petrol          yes   \n",
       "4134        Bentley  449999.0  crossover     20.0  6.00  Petrol          yes   \n",
       "4325  Mercedes-Benz  300000.0      sedan     68.0  6.00  Petrol          yes   \n",
       "5849  Mercedes-Benz  300000.0      other     37.0  5.00  Petrol          yes   \n",
       "\n",
       "      year     model drive  \n",
       "7621  2016  Mulsanne  rear  \n",
       "1611  2016  Bentayga  full  \n",
       "2637  2016  Bentayga  full  \n",
       "4134  2016  Bentayga  full  \n",
       "4325  2011     S 600  rear  \n",
       "5849  2012     G 500  full  "
      ]
     },
     "execution_count": 246,
     "metadata": {},
     "output_type": "execute_result"
    }
   ],
   "source": [
    "carsales_df[carsales_df.price.isin(carsales_df.price.nlargest())].sort_values('price', ascending=False)"
   ]
  },
  {
   "cell_type": "markdown",
   "metadata": {},
   "source": []
  },
  {
   "cell_type": "code",
   "execution_count": 229,
   "metadata": {},
   "outputs": [
    {
     "data": {
      "text/html": [
       "<div>\n",
       "<style scoped>\n",
       "    .dataframe tbody tr th:only-of-type {\n",
       "        vertical-align: middle;\n",
       "    }\n",
       "\n",
       "    .dataframe tbody tr th {\n",
       "        vertical-align: top;\n",
       "    }\n",
       "\n",
       "    .dataframe thead th {\n",
       "        text-align: right;\n",
       "    }\n",
       "</style>\n",
       "<table border=\"1\" class=\"dataframe\">\n",
       "  <thead>\n",
       "    <tr style=\"text-align: right;\">\n",
       "      <th></th>\n",
       "      <th>year</th>\n",
       "      <th>car</th>\n",
       "      <th>sales</th>\n",
       "      <th>year_rank</th>\n",
       "    </tr>\n",
       "  </thead>\n",
       "  <tbody>\n",
       "    <tr>\n",
       "      <th>0</th>\n",
       "      <td>1953</td>\n",
       "      <td>Moskvich-AZLK</td>\n",
       "      <td>1</td>\n",
       "      <td>1</td>\n",
       "    </tr>\n",
       "    <tr>\n",
       "      <th>1</th>\n",
       "      <td>1958</td>\n",
       "      <td>GAZ</td>\n",
       "      <td>1</td>\n",
       "      <td>1</td>\n",
       "    </tr>\n",
       "    <tr>\n",
       "      <th>2</th>\n",
       "      <td>1959</td>\n",
       "      <td>GAZ</td>\n",
       "      <td>1</td>\n",
       "      <td>1</td>\n",
       "    </tr>\n",
       "    <tr>\n",
       "      <th>3</th>\n",
       "      <td>1961</td>\n",
       "      <td>GAZ</td>\n",
       "      <td>1</td>\n",
       "      <td>1</td>\n",
       "    </tr>\n",
       "    <tr>\n",
       "      <th>4</th>\n",
       "      <td>1961</td>\n",
       "      <td>ZAZ</td>\n",
       "      <td>1</td>\n",
       "      <td>1</td>\n",
       "    </tr>\n",
       "    <tr>\n",
       "      <th>...</th>\n",
       "      <td>...</td>\n",
       "      <td>...</td>\n",
       "      <td>...</td>\n",
       "      <td>...</td>\n",
       "    </tr>\n",
       "    <tr>\n",
       "      <th>1011</th>\n",
       "      <td>2016</td>\n",
       "      <td>Jaguar</td>\n",
       "      <td>1</td>\n",
       "      <td>18</td>\n",
       "    </tr>\n",
       "    <tr>\n",
       "      <th>1012</th>\n",
       "      <td>2016</td>\n",
       "      <td>Jeep</td>\n",
       "      <td>1</td>\n",
       "      <td>18</td>\n",
       "    </tr>\n",
       "    <tr>\n",
       "      <th>1013</th>\n",
       "      <td>2016</td>\n",
       "      <td>Opel</td>\n",
       "      <td>1</td>\n",
       "      <td>18</td>\n",
       "    </tr>\n",
       "    <tr>\n",
       "      <th>1014</th>\n",
       "      <td>2016</td>\n",
       "      <td>Smart</td>\n",
       "      <td>1</td>\n",
       "      <td>18</td>\n",
       "    </tr>\n",
       "    <tr>\n",
       "      <th>1015</th>\n",
       "      <td>2016</td>\n",
       "      <td>UAZ</td>\n",
       "      <td>1</td>\n",
       "      <td>18</td>\n",
       "    </tr>\n",
       "  </tbody>\n",
       "</table>\n",
       "<p>1016 rows × 4 columns</p>\n",
       "</div>"
      ],
      "text/plain": [
       "      year            car  sales  year_rank\n",
       "0     1953  Moskvich-AZLK      1          1\n",
       "1     1958            GAZ      1          1\n",
       "2     1959            GAZ      1          1\n",
       "3     1961            GAZ      1          1\n",
       "4     1961            ZAZ      1          1\n",
       "...    ...            ...    ...        ...\n",
       "1011  2016         Jaguar      1         18\n",
       "1012  2016           Jeep      1         18\n",
       "1013  2016           Opel      1         18\n",
       "1014  2016          Smart      1         18\n",
       "1015  2016            UAZ      1         18\n",
       "\n",
       "[1016 rows x 4 columns]"
      ]
     },
     "execution_count": 229,
     "metadata": {},
     "output_type": "execute_result"
    }
   ],
   "source": [
    "carsales_year_df"
   ]
  },
  {
   "cell_type": "markdown",
   "metadata": {
    "colab_type": "text",
    "id": "Pqk4cV2wrIIZ"
   },
   "source": [
    "---\n",
    "<a name = Section9></a>\n",
    "# **9. Summarization**\n",
    "---"
   ]
  },
  {
   "cell_type": "markdown",
   "metadata": {
    "colab_type": "text",
    "id": "wducAS9QrPfZ"
   },
   "source": [
    "<a name = Section91></a>\n",
    "### **9.1 Conclusion**\n",
    "<p align=\"center\"><img src=\"https://s32519.pcdn.co/wp-content/uploads/2019/12/measuring-forecast-accuracy-banner-2272px-2048x865.png\"></p>\n",
    "\n",
    "- In this part you need to provide a conclusion about your overall analysis.\n",
    "\n",
    "- Write down some short points that you have observed so far."
   ]
  },
  {
   "cell_type": "code",
   "execution_count": null,
   "metadata": {
    "colab": {},
    "colab_type": "code",
    "id": "fKJjmHTktDO5"
   },
   "outputs": [],
   "source": []
  },
  {
   "cell_type": "markdown",
   "metadata": {
    "colab_type": "text",
    "id": "z3MtiiACrVJq"
   },
   "source": [
    "<a name = Section92></a>\n",
    "### **9.2 Actionable Insights**\n",
    "\n",
    "- This is a very crucial part where you will present your actionable insights.\n",
    "- You need to give suggestions about what could be applied and what not.\n",
    "- Make sure that these suggestions are short and to the point, ultimately it's a catalyst to your business.\n",
    "\n"
   ]
  }
 ],
 "metadata": {
  "colab": {
   "authorship_tag": "ABX9TyMHmKvZw75YZk7/dmuQc4DQ",
   "collapsed_sections": [],
   "name": "Analysis on Used Cars.ipynb",
   "provenance": []
  },
  "kernelspec": {
   "display_name": "Python 3",
   "language": "python",
   "name": "python3"
  },
  "language_info": {
   "codemirror_mode": {
    "name": "ipython",
    "version": 3
   },
   "file_extension": ".py",
   "mimetype": "text/x-python",
   "name": "python",
   "nbconvert_exporter": "python",
   "pygments_lexer": "ipython3",
   "version": "3.7.6"
  }
 },
 "nbformat": 4,
 "nbformat_minor": 1
}
